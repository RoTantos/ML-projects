{
 "cells": [
  {
   "cell_type": "markdown",
   "id": "711d444b-4f63-4be2-b976-5fba98cc7a82",
   "metadata": {},
   "source": [
    "# Classification Model for Wine Recognition dataset\n",
    "\n",
    "Rocio Tantos\n",
    "\n",
    "This Jupyter Notebook has an example of a classification model for the Wine Recognition dataset using random forest algorithm.\n",
    "\n",
    "https://scikit-learn.org/stable/datasets/toy_dataset.html\n",
    "\n",
    "As my first approach to Machine Learning, this is a simple exercise aimed at practicing supervised learning.\n",
    "\n",
    "I found the Data Professor YouTube channel very helpful for this activity, especially the videos \"Machine Learning in Python: Building a Classification Model\" and \"Hyperparameter Tuning of Machine Learning Model in Python\". Link below:\n",
    "\n",
    "https://www.youtube.com/watch?v=XmSlFPDjKdc&list=PLtqF5YXg7GLltQSLKSTnwCcHqTZASedbO&index=1l\n",
    "\n",
    "https://www.youtube.com/watch?v=jUxhUgkKAjE&t=988s"
   ]
  },
  {
   "cell_type": "markdown",
   "id": "fa061769-bbb0-4388-814c-38997df33ffd",
   "metadata": {},
   "source": [
    "### 1. Import Libraries"
   ]
  },
  {
   "cell_type": "code",
   "execution_count": 22,
   "id": "4a18085f-bc7d-4fc8-a618-840117299390",
   "metadata": {},
   "outputs": [],
   "source": [
    "from sklearn import datasets\n",
    "from sklearn.model_selection import train_test_split\n",
    "from sklearn.ensemble import RandomForestClassifier\n",
    "from sklearn.datasets import make_classification\n",
    "from sklearn.metrics import accuracy_score\n",
    "from sklearn.model_selection import GridSearchCV\n",
    "import numpy as np\n",
    "import plotly.graph_objects as go\n",
    "import pandas as pd"
   ]
  },
  {
   "cell_type": "markdown",
   "id": "e4695c05-20df-4de7-9cc3-eaabbaeef624",
   "metadata": {},
   "source": [
    "### 2. Load Wine Recognition dataset"
   ]
  },
  {
   "cell_type": "code",
   "execution_count": 24,
   "id": "e9069e49-efbe-4994-818d-fda1379e7ed2",
   "metadata": {},
   "outputs": [],
   "source": [
    "wine = datasets.load_wine()"
   ]
  },
  {
   "cell_type": "markdown",
   "id": "9ea6e527-b18c-4d8c-9335-480ec105736e",
   "metadata": {},
   "source": [
    "Taking a look to the dataset"
   ]
  },
  {
   "cell_type": "code",
   "execution_count": 26,
   "id": "db9dc118-28ef-4512-b1ba-8879bda6dcd9",
   "metadata": {},
   "outputs": [
    {
     "data": {
      "text/plain": [
       "{'data': array([[1.423e+01, 1.710e+00, 2.430e+00, ..., 1.040e+00, 3.920e+00,\n",
       "         1.065e+03],\n",
       "        [1.320e+01, 1.780e+00, 2.140e+00, ..., 1.050e+00, 3.400e+00,\n",
       "         1.050e+03],\n",
       "        [1.316e+01, 2.360e+00, 2.670e+00, ..., 1.030e+00, 3.170e+00,\n",
       "         1.185e+03],\n",
       "        ...,\n",
       "        [1.327e+01, 4.280e+00, 2.260e+00, ..., 5.900e-01, 1.560e+00,\n",
       "         8.350e+02],\n",
       "        [1.317e+01, 2.590e+00, 2.370e+00, ..., 6.000e-01, 1.620e+00,\n",
       "         8.400e+02],\n",
       "        [1.413e+01, 4.100e+00, 2.740e+00, ..., 6.100e-01, 1.600e+00,\n",
       "         5.600e+02]]),\n",
       " 'target': array([0, 0, 0, 0, 0, 0, 0, 0, 0, 0, 0, 0, 0, 0, 0, 0, 0, 0, 0, 0, 0, 0,\n",
       "        0, 0, 0, 0, 0, 0, 0, 0, 0, 0, 0, 0, 0, 0, 0, 0, 0, 0, 0, 0, 0, 0,\n",
       "        0, 0, 0, 0, 0, 0, 0, 0, 0, 0, 0, 0, 0, 0, 0, 1, 1, 1, 1, 1, 1, 1,\n",
       "        1, 1, 1, 1, 1, 1, 1, 1, 1, 1, 1, 1, 1, 1, 1, 1, 1, 1, 1, 1, 1, 1,\n",
       "        1, 1, 1, 1, 1, 1, 1, 1, 1, 1, 1, 1, 1, 1, 1, 1, 1, 1, 1, 1, 1, 1,\n",
       "        1, 1, 1, 1, 1, 1, 1, 1, 1, 1, 1, 1, 1, 1, 1, 1, 1, 1, 1, 1, 2, 2,\n",
       "        2, 2, 2, 2, 2, 2, 2, 2, 2, 2, 2, 2, 2, 2, 2, 2, 2, 2, 2, 2, 2, 2,\n",
       "        2, 2, 2, 2, 2, 2, 2, 2, 2, 2, 2, 2, 2, 2, 2, 2, 2, 2, 2, 2, 2, 2,\n",
       "        2, 2]),\n",
       " 'frame': None,\n",
       " 'target_names': array(['class_0', 'class_1', 'class_2'], dtype='<U7'),\n",
       " 'DESCR': '.. _wine_dataset:\\n\\nWine recognition dataset\\n------------------------\\n\\n**Data Set Characteristics:**\\n\\n    :Number of Instances: 178\\n    :Number of Attributes: 13 numeric, predictive attributes and the class\\n    :Attribute Information:\\n \\t\\t- Alcohol\\n \\t\\t- Malic acid\\n \\t\\t- Ash\\n\\t\\t- Alcalinity of ash  \\n \\t\\t- Magnesium\\n\\t\\t- Total phenols\\n \\t\\t- Flavanoids\\n \\t\\t- Nonflavanoid phenols\\n \\t\\t- Proanthocyanins\\n\\t\\t- Color intensity\\n \\t\\t- Hue\\n \\t\\t- OD280/OD315 of diluted wines\\n \\t\\t- Proline\\n\\n    - class:\\n            - class_0\\n            - class_1\\n            - class_2\\n\\t\\t\\n    :Summary Statistics:\\n    \\n    ============================= ==== ===== ======= =====\\n                                   Min   Max   Mean     SD\\n    ============================= ==== ===== ======= =====\\n    Alcohol:                      11.0  14.8    13.0   0.8\\n    Malic Acid:                   0.74  5.80    2.34  1.12\\n    Ash:                          1.36  3.23    2.36  0.27\\n    Alcalinity of Ash:            10.6  30.0    19.5   3.3\\n    Magnesium:                    70.0 162.0    99.7  14.3\\n    Total Phenols:                0.98  3.88    2.29  0.63\\n    Flavanoids:                   0.34  5.08    2.03  1.00\\n    Nonflavanoid Phenols:         0.13  0.66    0.36  0.12\\n    Proanthocyanins:              0.41  3.58    1.59  0.57\\n    Colour Intensity:              1.3  13.0     5.1   2.3\\n    Hue:                          0.48  1.71    0.96  0.23\\n    OD280/OD315 of diluted wines: 1.27  4.00    2.61  0.71\\n    Proline:                       278  1680     746   315\\n    ============================= ==== ===== ======= =====\\n\\n    :Missing Attribute Values: None\\n    :Class Distribution: class_0 (59), class_1 (71), class_2 (48)\\n    :Creator: R.A. Fisher\\n    :Donor: Michael Marshall (MARSHALL%PLU@io.arc.nasa.gov)\\n    :Date: July, 1988\\n\\nThis is a copy of UCI ML Wine recognition datasets.\\nhttps://archive.ics.uci.edu/ml/machine-learning-databases/wine/wine.data\\n\\nThe data is the results of a chemical analysis of wines grown in the same\\nregion in Italy by three different cultivators. There are thirteen different\\nmeasurements taken for different constituents found in the three types of\\nwine.\\n\\nOriginal Owners: \\n\\nForina, M. et al, PARVUS - \\nAn Extendible Package for Data Exploration, Classification and Correlation. \\nInstitute of Pharmaceutical and Food Analysis and Technologies,\\nVia Brigata Salerno, 16147 Genoa, Italy.\\n\\nCitation:\\n\\nLichman, M. (2013). UCI Machine Learning Repository\\n[https://archive.ics.uci.edu/ml]. Irvine, CA: University of California,\\nSchool of Information and Computer Science. \\n\\n.. topic:: References\\n\\n  (1) S. Aeberhard, D. Coomans and O. de Vel, \\n  Comparison of Classifiers in High Dimensional Settings, \\n  Tech. Rep. no. 92-02, (1992), Dept. of Computer Science and Dept. of  \\n  Mathematics and Statistics, James Cook University of North Queensland. \\n  (Also submitted to Technometrics). \\n\\n  The data was used with many others for comparing various \\n  classifiers. The classes are separable, though only RDA \\n  has achieved 100% correct classification. \\n  (RDA : 100%, QDA 99.4%, LDA 98.9%, 1NN 96.1% (z-transformed data)) \\n  (All results using the leave-one-out technique) \\n\\n  (2) S. Aeberhard, D. Coomans and O. de Vel, \\n  \"THE CLASSIFICATION PERFORMANCE OF RDA\" \\n  Tech. Rep. no. 92-01, (1992), Dept. of Computer Science and Dept. of \\n  Mathematics and Statistics, James Cook University of North Queensland. \\n  (Also submitted to Journal of Chemometrics).\\n',\n",
       " 'feature_names': ['alcohol',\n",
       "  'malic_acid',\n",
       "  'ash',\n",
       "  'alcalinity_of_ash',\n",
       "  'magnesium',\n",
       "  'total_phenols',\n",
       "  'flavanoids',\n",
       "  'nonflavanoid_phenols',\n",
       "  'proanthocyanins',\n",
       "  'color_intensity',\n",
       "  'hue',\n",
       "  'od280/od315_of_diluted_wines',\n",
       "  'proline']}"
      ]
     },
     "execution_count": 26,
     "metadata": {},
     "output_type": "execute_result"
    }
   ],
   "source": [
    "wine"
   ]
  },
  {
   "cell_type": "markdown",
   "id": "39bd8230-34ae-49f4-8b01-c2d3e79fcdc4",
   "metadata": {},
   "source": [
    "### 3. Dataset Content\n",
    "\n",
    "The Wine Recognition dataset contains 13 input features and 1 output variable"
   ]
  },
  {
   "cell_type": "markdown",
   "id": "573db4d1-0ee0-4c19-b831-7089e3dc81a3",
   "metadata": {},
   "source": [
    "### 3.1. Input Features"
   ]
  },
  {
   "cell_type": "code",
   "execution_count": 28,
   "id": "f602c1f8-b96e-4c69-98ae-1574ba6fe683",
   "metadata": {},
   "outputs": [
    {
     "name": "stdout",
     "output_type": "stream",
     "text": [
      "['alcohol', 'malic_acid', 'ash', 'alcalinity_of_ash', 'magnesium', 'total_phenols', 'flavanoids', 'nonflavanoid_phenols', 'proanthocyanins', 'color_intensity', 'hue', 'od280/od315_of_diluted_wines', 'proline']\n"
     ]
    }
   ],
   "source": [
    "print(wine.feature_names)"
   ]
  },
  {
   "cell_type": "markdown",
   "id": "82307b62-0677-4895-8dd5-7e675c149313",
   "metadata": {},
   "source": [
    "### 3.2. Output Features"
   ]
  },
  {
   "cell_type": "code",
   "execution_count": 30,
   "id": "e6847d23-8ee4-4b30-95f5-64a417276388",
   "metadata": {},
   "outputs": [
    {
     "name": "stdout",
     "output_type": "stream",
     "text": [
      "['class_0' 'class_1' 'class_2']\n"
     ]
    }
   ],
   "source": [
    "print(wine.target_names)"
   ]
  },
  {
   "cell_type": "markdown",
   "id": "8e6b0e2a-7b0b-4ea3-902b-3c69876ad889",
   "metadata": {},
   "source": [
    "### 4. Taking a look to the input features"
   ]
  },
  {
   "cell_type": "code",
   "execution_count": 32,
   "id": "2ef93769-beba-44e6-aab7-a0dc60fd4422",
   "metadata": {},
   "outputs": [
    {
     "data": {
      "text/plain": [
       "array([[1.423e+01, 1.710e+00, 2.430e+00, ..., 1.040e+00, 3.920e+00,\n",
       "        1.065e+03],\n",
       "       [1.320e+01, 1.780e+00, 2.140e+00, ..., 1.050e+00, 3.400e+00,\n",
       "        1.050e+03],\n",
       "       [1.316e+01, 2.360e+00, 2.670e+00, ..., 1.030e+00, 3.170e+00,\n",
       "        1.185e+03],\n",
       "       ...,\n",
       "       [1.327e+01, 4.280e+00, 2.260e+00, ..., 5.900e-01, 1.560e+00,\n",
       "        8.350e+02],\n",
       "       [1.317e+01, 2.590e+00, 2.370e+00, ..., 6.000e-01, 1.620e+00,\n",
       "        8.400e+02],\n",
       "       [1.413e+01, 4.100e+00, 2.740e+00, ..., 6.100e-01, 1.600e+00,\n",
       "        5.600e+02]])"
      ]
     },
     "execution_count": 32,
     "metadata": {},
     "output_type": "execute_result"
    }
   ],
   "source": [
    "wine.data"
   ]
  },
  {
   "cell_type": "markdown",
   "id": "fcf4e236-fcc5-480a-888d-ebd70234b115",
   "metadata": {},
   "source": [
    "### 5. Taking a look to the output features"
   ]
  },
  {
   "cell_type": "code",
   "execution_count": 34,
   "id": "58248efc-9617-4a5f-b439-d3319f617284",
   "metadata": {},
   "outputs": [
    {
     "data": {
      "text/plain": [
       "array([0, 0, 0, 0, 0, 0, 0, 0, 0, 0, 0, 0, 0, 0, 0, 0, 0, 0, 0, 0, 0, 0,\n",
       "       0, 0, 0, 0, 0, 0, 0, 0, 0, 0, 0, 0, 0, 0, 0, 0, 0, 0, 0, 0, 0, 0,\n",
       "       0, 0, 0, 0, 0, 0, 0, 0, 0, 0, 0, 0, 0, 0, 0, 1, 1, 1, 1, 1, 1, 1,\n",
       "       1, 1, 1, 1, 1, 1, 1, 1, 1, 1, 1, 1, 1, 1, 1, 1, 1, 1, 1, 1, 1, 1,\n",
       "       1, 1, 1, 1, 1, 1, 1, 1, 1, 1, 1, 1, 1, 1, 1, 1, 1, 1, 1, 1, 1, 1,\n",
       "       1, 1, 1, 1, 1, 1, 1, 1, 1, 1, 1, 1, 1, 1, 1, 1, 1, 1, 1, 1, 2, 2,\n",
       "       2, 2, 2, 2, 2, 2, 2, 2, 2, 2, 2, 2, 2, 2, 2, 2, 2, 2, 2, 2, 2, 2,\n",
       "       2, 2, 2, 2, 2, 2, 2, 2, 2, 2, 2, 2, 2, 2, 2, 2, 2, 2, 2, 2, 2, 2,\n",
       "       2, 2])"
      ]
     },
     "execution_count": 34,
     "metadata": {},
     "output_type": "execute_result"
    }
   ],
   "source": [
    "wine.target"
   ]
  },
  {
   "cell_type": "markdown",
   "id": "9c55df47-2a47-460b-84d0-deb378179375",
   "metadata": {},
   "source": [
    "### 6. Assigning input and output variables"
   ]
  },
  {
   "cell_type": "code",
   "execution_count": 36,
   "id": "64a88336-4c4c-4566-a952-9a0410a9a855",
   "metadata": {},
   "outputs": [],
   "source": [
    "X = wine.data\n",
    "Y = wine.target"
   ]
  },
  {
   "cell_type": "markdown",
   "id": "3044dae5-0249-488f-b2b5-5c36733e504d",
   "metadata": {},
   "source": [
    "### 6.1 Data dimensions"
   ]
  },
  {
   "cell_type": "code",
   "execution_count": 38,
   "id": "1af60f14-78cc-42a6-a5fc-68be76f715d7",
   "metadata": {},
   "outputs": [
    {
     "data": {
      "text/plain": [
       "(178, 13)"
      ]
     },
     "execution_count": 38,
     "metadata": {},
     "output_type": "execute_result"
    }
   ],
   "source": [
    "X.shape"
   ]
  },
  {
   "cell_type": "code",
   "execution_count": 40,
   "id": "5df316b4-b242-4a99-a9af-7e8b44ffd5e3",
   "metadata": {},
   "outputs": [
    {
     "data": {
      "text/plain": [
       "(178,)"
      ]
     },
     "execution_count": 40,
     "metadata": {},
     "output_type": "execute_result"
    }
   ],
   "source": [
    "Y.shape"
   ]
  },
  {
   "cell_type": "markdown",
   "id": "4a5e17f5-0b78-485b-9f24-696aec662500",
   "metadata": {},
   "source": [
    "### 7. Building the classification model"
   ]
  },
  {
   "cell_type": "code",
   "execution_count": 54,
   "id": "51a1262b-a618-4343-8530-8ab592de0c7c",
   "metadata": {},
   "outputs": [],
   "source": [
    "#Data split\n",
    "X_train, X_test, Y_train, Y_test = train_test_split(X, Y, test_size=0.2)"
   ]
  },
  {
   "cell_type": "code",
   "execution_count": 56,
   "id": "2b409845-a909-4961-a7db-0abc9b81a57d",
   "metadata": {},
   "outputs": [
    {
     "data": {
      "text/plain": [
       "((36, 13), (36,))"
      ]
     },
     "execution_count": 56,
     "metadata": {},
     "output_type": "execute_result"
    }
   ],
   "source": [
    "X_test.shape, Y_test.shape"
   ]
  },
  {
   "cell_type": "code",
   "execution_count": 58,
   "id": "1240cafa-5482-402a-b547-ce8f1bdb27b0",
   "metadata": {},
   "outputs": [
    {
     "data": {
      "text/plain": [
       "((142, 13), (142,))"
      ]
     },
     "execution_count": 58,
     "metadata": {},
     "output_type": "execute_result"
    }
   ],
   "source": [
    "X_train.shape, Y_train.shape"
   ]
  },
  {
   "cell_type": "code",
   "execution_count": 60,
   "id": "dc8664e6-2d1c-4ad0-b45f-5d735f58724f",
   "metadata": {},
   "outputs": [],
   "source": [
    "clf = RandomForestClassifier()"
   ]
  },
  {
   "cell_type": "code",
   "execution_count": 62,
   "id": "93c69114-37d8-4d15-a929-e423b5dbee0c",
   "metadata": {},
   "outputs": [
    {
     "data": {
      "text/html": [
       "<style>#sk-container-id-2 {color: black;background-color: white;}#sk-container-id-2 pre{padding: 0;}#sk-container-id-2 div.sk-toggleable {background-color: white;}#sk-container-id-2 label.sk-toggleable__label {cursor: pointer;display: block;width: 100%;margin-bottom: 0;padding: 0.3em;box-sizing: border-box;text-align: center;}#sk-container-id-2 label.sk-toggleable__label-arrow:before {content: \"▸\";float: left;margin-right: 0.25em;color: #696969;}#sk-container-id-2 label.sk-toggleable__label-arrow:hover:before {color: black;}#sk-container-id-2 div.sk-estimator:hover label.sk-toggleable__label-arrow:before {color: black;}#sk-container-id-2 div.sk-toggleable__content {max-height: 0;max-width: 0;overflow: hidden;text-align: left;background-color: #f0f8ff;}#sk-container-id-2 div.sk-toggleable__content pre {margin: 0.2em;color: black;border-radius: 0.25em;background-color: #f0f8ff;}#sk-container-id-2 input.sk-toggleable__control:checked~div.sk-toggleable__content {max-height: 200px;max-width: 100%;overflow: auto;}#sk-container-id-2 input.sk-toggleable__control:checked~label.sk-toggleable__label-arrow:before {content: \"▾\";}#sk-container-id-2 div.sk-estimator input.sk-toggleable__control:checked~label.sk-toggleable__label {background-color: #d4ebff;}#sk-container-id-2 div.sk-label input.sk-toggleable__control:checked~label.sk-toggleable__label {background-color: #d4ebff;}#sk-container-id-2 input.sk-hidden--visually {border: 0;clip: rect(1px 1px 1px 1px);clip: rect(1px, 1px, 1px, 1px);height: 1px;margin: -1px;overflow: hidden;padding: 0;position: absolute;width: 1px;}#sk-container-id-2 div.sk-estimator {font-family: monospace;background-color: #f0f8ff;border: 1px dotted black;border-radius: 0.25em;box-sizing: border-box;margin-bottom: 0.5em;}#sk-container-id-2 div.sk-estimator:hover {background-color: #d4ebff;}#sk-container-id-2 div.sk-parallel-item::after {content: \"\";width: 100%;border-bottom: 1px solid gray;flex-grow: 1;}#sk-container-id-2 div.sk-label:hover label.sk-toggleable__label {background-color: #d4ebff;}#sk-container-id-2 div.sk-serial::before {content: \"\";position: absolute;border-left: 1px solid gray;box-sizing: border-box;top: 0;bottom: 0;left: 50%;z-index: 0;}#sk-container-id-2 div.sk-serial {display: flex;flex-direction: column;align-items: center;background-color: white;padding-right: 0.2em;padding-left: 0.2em;position: relative;}#sk-container-id-2 div.sk-item {position: relative;z-index: 1;}#sk-container-id-2 div.sk-parallel {display: flex;align-items: stretch;justify-content: center;background-color: white;position: relative;}#sk-container-id-2 div.sk-item::before, #sk-container-id-2 div.sk-parallel-item::before {content: \"\";position: absolute;border-left: 1px solid gray;box-sizing: border-box;top: 0;bottom: 0;left: 50%;z-index: -1;}#sk-container-id-2 div.sk-parallel-item {display: flex;flex-direction: column;z-index: 1;position: relative;background-color: white;}#sk-container-id-2 div.sk-parallel-item:first-child::after {align-self: flex-end;width: 50%;}#sk-container-id-2 div.sk-parallel-item:last-child::after {align-self: flex-start;width: 50%;}#sk-container-id-2 div.sk-parallel-item:only-child::after {width: 0;}#sk-container-id-2 div.sk-dashed-wrapped {border: 1px dashed gray;margin: 0 0.4em 0.5em 0.4em;box-sizing: border-box;padding-bottom: 0.4em;background-color: white;}#sk-container-id-2 div.sk-label label {font-family: monospace;font-weight: bold;display: inline-block;line-height: 1.2em;}#sk-container-id-2 div.sk-label-container {text-align: center;}#sk-container-id-2 div.sk-container {/* jupyter's `normalize.less` sets `[hidden] { display: none; }` but bootstrap.min.css set `[hidden] { display: none !important; }` so we also need the `!important` here to be able to override the default hidden behavior on the sphinx rendered scikit-learn.org. See: https://github.com/scikit-learn/scikit-learn/issues/21755 */display: inline-block !important;position: relative;}#sk-container-id-2 div.sk-text-repr-fallback {display: none;}</style><div id=\"sk-container-id-2\" class=\"sk-top-container\"><div class=\"sk-text-repr-fallback\"><pre>RandomForestClassifier()</pre><b>In a Jupyter environment, please rerun this cell to show the HTML representation or trust the notebook. <br />On GitHub, the HTML representation is unable to render, please try loading this page with nbviewer.org.</b></div><div class=\"sk-container\" hidden><div class=\"sk-item\"><div class=\"sk-estimator sk-toggleable\"><input class=\"sk-toggleable__control sk-hidden--visually\" id=\"sk-estimator-id-2\" type=\"checkbox\" checked><label for=\"sk-estimator-id-2\" class=\"sk-toggleable__label sk-toggleable__label-arrow\">RandomForestClassifier</label><div class=\"sk-toggleable__content\"><pre>RandomForestClassifier()</pre></div></div></div></div></div>"
      ],
      "text/plain": [
       "RandomForestClassifier()"
      ]
     },
     "execution_count": 62,
     "metadata": {},
     "output_type": "execute_result"
    }
   ],
   "source": [
    "clf.fit(X_train, Y_train)"
   ]
  },
  {
   "cell_type": "markdown",
   "id": "01fa01d5-9cba-4c76-8399-58c79173d1a9",
   "metadata": {},
   "source": [
    "### 8. Model Performance"
   ]
  },
  {
   "cell_type": "code",
   "execution_count": 64,
   "id": "aa03b761-5817-4170-8bb8-1014cf4ea522",
   "metadata": {},
   "outputs": [
    {
     "data": {
      "text/plain": [
       "0.9722222222222222"
      ]
     },
     "execution_count": 64,
     "metadata": {},
     "output_type": "execute_result"
    }
   ],
   "source": [
    "clf.score(X_test, Y_test)"
   ]
  },
  {
   "cell_type": "markdown",
   "id": "94d534ce-1747-4108-a710-040810dd9267",
   "metadata": {},
   "source": [
    "### 9. Perfoms prediction on the test set"
   ]
  },
  {
   "cell_type": "code",
   "execution_count": 66,
   "id": "0d2a3838-9eeb-4de1-bd78-32df3919c12e",
   "metadata": {},
   "outputs": [],
   "source": [
    "Y_pred = clf.predict(X_test)"
   ]
  },
  {
   "cell_type": "code",
   "execution_count": 68,
   "id": "8dc0f60c-03b5-4a95-b887-f09e0a4c26e4",
   "metadata": {},
   "outputs": [
    {
     "data": {
      "text/plain": [
       "0.9722222222222222"
      ]
     },
     "execution_count": 68,
     "metadata": {},
     "output_type": "execute_result"
    }
   ],
   "source": [
    "accuracy_score(Y_pred, Y_test)"
   ]
  },
  {
   "cell_type": "markdown",
   "id": "022dc443-90ce-42d7-86e6-4bf5459137ba",
   "metadata": {},
   "source": [
    "#### 9.1 Comparison between prediction and real output "
   ]
  },
  {
   "cell_type": "code",
   "execution_count": 70,
   "id": "10309ed6-983a-4dde-b94f-ca8d82ba4445",
   "metadata": {},
   "outputs": [
    {
     "data": {
      "text/plain": [
       "(array([2, 0, 1, 2, 0, 0, 0, 0, 2, 0, 0, 2, 1, 2, 0, 0, 0, 0, 1, 0, 1, 1,\n",
       "        1, 0, 2, 2, 0, 1, 2, 0, 0, 1, 0, 1, 0, 2]),\n",
       " array([2, 0, 1, 2, 0, 0, 0, 0, 2, 0, 0, 2, 1, 2, 0, 0, 0, 0, 1, 0, 1, 1,\n",
       "        1, 1, 2, 2, 0, 1, 2, 0, 0, 1, 0, 1, 0, 2]))"
      ]
     },
     "execution_count": 70,
     "metadata": {},
     "output_type": "execute_result"
    }
   ],
   "source": [
    "Y_pred, Y_test"
   ]
  },
  {
   "cell_type": "markdown",
   "id": "66c53d2c-6b24-46c7-9337-dfa8561ab4a7",
   "metadata": {},
   "source": [
    "## 10. Hyperparameter Tuning"
   ]
  },
  {
   "cell_type": "markdown",
   "id": "d721d69c-b63f-444f-af01-7c6d24362514",
   "metadata": {},
   "source": [
    "In this case, I want to know if there is a way to improve the model's performance using hyperparameters, even though the current model performance is already quite good.\n",
    "\n",
    "By default, RandomForestClassifier() uses n_estimators=100 and max_features='sqrt' for integer values. Therefore, I want to modify these default values using GridSearchCV. This technique performs an exhaustive search over specified parameter values for an estimator, such as n_estimators and max_features.\n",
    "\n",
    "n_estimators: The number of trees in the forest.\n",
    "max_features: The number of features to consider when looking for the best split."
   ]
  },
  {
   "cell_type": "code",
   "execution_count": 101,
   "id": "6a977f29-7ed8-40f8-b7ee-6b440f99344a",
   "metadata": {},
   "outputs": [],
   "source": [
    "max_features_range = np.arange(1,14,1) \n",
    "n_estimators_range = np.arange(10,210,10) \n",
    "param_grid = dict(max_features=max_features_range, n_estimators=n_estimators_range)\n",
    "\n",
    "rf = RandomForestClassifier(random_state=42) #Random state for reproducibility of results across executions\n",
    "\n",
    "grid = GridSearchCV(estimator=rf, param_grid=param_grid, cv=5)"
   ]
  },
  {
   "cell_type": "code",
   "execution_count": 103,
   "id": "6526b31c-e0d9-49ca-9c64-247db2f15c86",
   "metadata": {},
   "outputs": [
    {
     "data": {
      "text/html": [
       "<style>#sk-container-id-5 {color: black;background-color: white;}#sk-container-id-5 pre{padding: 0;}#sk-container-id-5 div.sk-toggleable {background-color: white;}#sk-container-id-5 label.sk-toggleable__label {cursor: pointer;display: block;width: 100%;margin-bottom: 0;padding: 0.3em;box-sizing: border-box;text-align: center;}#sk-container-id-5 label.sk-toggleable__label-arrow:before {content: \"▸\";float: left;margin-right: 0.25em;color: #696969;}#sk-container-id-5 label.sk-toggleable__label-arrow:hover:before {color: black;}#sk-container-id-5 div.sk-estimator:hover label.sk-toggleable__label-arrow:before {color: black;}#sk-container-id-5 div.sk-toggleable__content {max-height: 0;max-width: 0;overflow: hidden;text-align: left;background-color: #f0f8ff;}#sk-container-id-5 div.sk-toggleable__content pre {margin: 0.2em;color: black;border-radius: 0.25em;background-color: #f0f8ff;}#sk-container-id-5 input.sk-toggleable__control:checked~div.sk-toggleable__content {max-height: 200px;max-width: 100%;overflow: auto;}#sk-container-id-5 input.sk-toggleable__control:checked~label.sk-toggleable__label-arrow:before {content: \"▾\";}#sk-container-id-5 div.sk-estimator input.sk-toggleable__control:checked~label.sk-toggleable__label {background-color: #d4ebff;}#sk-container-id-5 div.sk-label input.sk-toggleable__control:checked~label.sk-toggleable__label {background-color: #d4ebff;}#sk-container-id-5 input.sk-hidden--visually {border: 0;clip: rect(1px 1px 1px 1px);clip: rect(1px, 1px, 1px, 1px);height: 1px;margin: -1px;overflow: hidden;padding: 0;position: absolute;width: 1px;}#sk-container-id-5 div.sk-estimator {font-family: monospace;background-color: #f0f8ff;border: 1px dotted black;border-radius: 0.25em;box-sizing: border-box;margin-bottom: 0.5em;}#sk-container-id-5 div.sk-estimator:hover {background-color: #d4ebff;}#sk-container-id-5 div.sk-parallel-item::after {content: \"\";width: 100%;border-bottom: 1px solid gray;flex-grow: 1;}#sk-container-id-5 div.sk-label:hover label.sk-toggleable__label {background-color: #d4ebff;}#sk-container-id-5 div.sk-serial::before {content: \"\";position: absolute;border-left: 1px solid gray;box-sizing: border-box;top: 0;bottom: 0;left: 50%;z-index: 0;}#sk-container-id-5 div.sk-serial {display: flex;flex-direction: column;align-items: center;background-color: white;padding-right: 0.2em;padding-left: 0.2em;position: relative;}#sk-container-id-5 div.sk-item {position: relative;z-index: 1;}#sk-container-id-5 div.sk-parallel {display: flex;align-items: stretch;justify-content: center;background-color: white;position: relative;}#sk-container-id-5 div.sk-item::before, #sk-container-id-5 div.sk-parallel-item::before {content: \"\";position: absolute;border-left: 1px solid gray;box-sizing: border-box;top: 0;bottom: 0;left: 50%;z-index: -1;}#sk-container-id-5 div.sk-parallel-item {display: flex;flex-direction: column;z-index: 1;position: relative;background-color: white;}#sk-container-id-5 div.sk-parallel-item:first-child::after {align-self: flex-end;width: 50%;}#sk-container-id-5 div.sk-parallel-item:last-child::after {align-self: flex-start;width: 50%;}#sk-container-id-5 div.sk-parallel-item:only-child::after {width: 0;}#sk-container-id-5 div.sk-dashed-wrapped {border: 1px dashed gray;margin: 0 0.4em 0.5em 0.4em;box-sizing: border-box;padding-bottom: 0.4em;background-color: white;}#sk-container-id-5 div.sk-label label {font-family: monospace;font-weight: bold;display: inline-block;line-height: 1.2em;}#sk-container-id-5 div.sk-label-container {text-align: center;}#sk-container-id-5 div.sk-container {/* jupyter's `normalize.less` sets `[hidden] { display: none; }` but bootstrap.min.css set `[hidden] { display: none !important; }` so we also need the `!important` here to be able to override the default hidden behavior on the sphinx rendered scikit-learn.org. See: https://github.com/scikit-learn/scikit-learn/issues/21755 */display: inline-block !important;position: relative;}#sk-container-id-5 div.sk-text-repr-fallback {display: none;}</style><div id=\"sk-container-id-5\" class=\"sk-top-container\"><div class=\"sk-text-repr-fallback\"><pre>GridSearchCV(cv=5, estimator=RandomForestClassifier(random_state=42),\n",
       "             param_grid={&#x27;max_features&#x27;: array([ 1,  2,  3,  4,  5,  6,  7,  8,  9, 10, 11, 12, 13]),\n",
       "                         &#x27;n_estimators&#x27;: array([ 10,  20,  30,  40,  50,  60,  70,  80,  90, 100, 110, 120, 130,\n",
       "       140, 150, 160, 170, 180, 190, 200])})</pre><b>In a Jupyter environment, please rerun this cell to show the HTML representation or trust the notebook. <br />On GitHub, the HTML representation is unable to render, please try loading this page with nbviewer.org.</b></div><div class=\"sk-container\" hidden><div class=\"sk-item sk-dashed-wrapped\"><div class=\"sk-label-container\"><div class=\"sk-label sk-toggleable\"><input class=\"sk-toggleable__control sk-hidden--visually\" id=\"sk-estimator-id-9\" type=\"checkbox\" ><label for=\"sk-estimator-id-9\" class=\"sk-toggleable__label sk-toggleable__label-arrow\">GridSearchCV</label><div class=\"sk-toggleable__content\"><pre>GridSearchCV(cv=5, estimator=RandomForestClassifier(random_state=42),\n",
       "             param_grid={&#x27;max_features&#x27;: array([ 1,  2,  3,  4,  5,  6,  7,  8,  9, 10, 11, 12, 13]),\n",
       "                         &#x27;n_estimators&#x27;: array([ 10,  20,  30,  40,  50,  60,  70,  80,  90, 100, 110, 120, 130,\n",
       "       140, 150, 160, 170, 180, 190, 200])})</pre></div></div></div><div class=\"sk-parallel\"><div class=\"sk-parallel-item\"><div class=\"sk-item\"><div class=\"sk-label-container\"><div class=\"sk-label sk-toggleable\"><input class=\"sk-toggleable__control sk-hidden--visually\" id=\"sk-estimator-id-10\" type=\"checkbox\" ><label for=\"sk-estimator-id-10\" class=\"sk-toggleable__label sk-toggleable__label-arrow\">estimator: RandomForestClassifier</label><div class=\"sk-toggleable__content\"><pre>RandomForestClassifier(random_state=42)</pre></div></div></div><div class=\"sk-serial\"><div class=\"sk-item\"><div class=\"sk-estimator sk-toggleable\"><input class=\"sk-toggleable__control sk-hidden--visually\" id=\"sk-estimator-id-11\" type=\"checkbox\" ><label for=\"sk-estimator-id-11\" class=\"sk-toggleable__label sk-toggleable__label-arrow\">RandomForestClassifier</label><div class=\"sk-toggleable__content\"><pre>RandomForestClassifier(random_state=42)</pre></div></div></div></div></div></div></div></div></div></div>"
      ],
      "text/plain": [
       "GridSearchCV(cv=5, estimator=RandomForestClassifier(random_state=42),\n",
       "             param_grid={'max_features': array([ 1,  2,  3,  4,  5,  6,  7,  8,  9, 10, 11, 12, 13]),\n",
       "                         'n_estimators': array([ 10,  20,  30,  40,  50,  60,  70,  80,  90, 100, 110, 120, 130,\n",
       "       140, 150, 160, 170, 180, 190, 200])})"
      ]
     },
     "execution_count": 103,
     "metadata": {},
     "output_type": "execute_result"
    }
   ],
   "source": [
    "grid.fit(X_train, Y_train)"
   ]
  },
  {
   "cell_type": "code",
   "execution_count": 105,
   "id": "49436d64-b72f-4b2b-9ccb-1cb75ed87df9",
   "metadata": {},
   "outputs": [
    {
     "name": "stdout",
     "output_type": "stream",
     "text": [
      "The best parameters are {'max_features': 2, 'n_estimators': 50} with a score of 0.99\n"
     ]
    }
   ],
   "source": [
    "print(\"The best parameters are %s with a score of %0.2f\"\n",
    "      % (grid.best_params_, grid.best_score_))"
   ]
  },
  {
   "cell_type": "code",
   "execution_count": 107,
   "id": "ee88919b-229a-41d3-aad1-ad24e5605fc0",
   "metadata": {},
   "outputs": [
    {
     "name": "stdout",
     "output_type": "stream",
     "text": [
      "0.9722222222222222\n"
     ]
    }
   ],
   "source": [
    "print(grid.best_estimator_.score(X_test, Y_test))"
   ]
  },
  {
   "cell_type": "markdown",
   "id": "b9c4eb6a-601c-4412-b09d-0195eed0f7e1",
   "metadata": {},
   "source": [
    "## 11. Grid search parameters accuracy scores "
   ]
  },
  {
   "cell_type": "markdown",
   "id": "9f2d60a8-e4d4-400f-b44e-80e35fd8f2c3",
   "metadata": {},
   "source": [
    "We can export the grid search parameters and their accuracy scores by using a dataframe"
   ]
  },
  {
   "cell_type": "code",
   "execution_count": 109,
   "id": "de3eaa07-a456-4d38-9995-6ffb37cfc7a7",
   "metadata": {},
   "outputs": [
    {
     "data": {
      "text/html": [
       "<div>\n",
       "<style scoped>\n",
       "    .dataframe tbody tr th:only-of-type {\n",
       "        vertical-align: middle;\n",
       "    }\n",
       "\n",
       "    .dataframe tbody tr th {\n",
       "        vertical-align: top;\n",
       "    }\n",
       "\n",
       "    .dataframe thead th {\n",
       "        text-align: right;\n",
       "    }\n",
       "</style>\n",
       "<table border=\"1\" class=\"dataframe\">\n",
       "  <thead>\n",
       "    <tr style=\"text-align: right;\">\n",
       "      <th></th>\n",
       "      <th>max_features</th>\n",
       "      <th>n_estimators</th>\n",
       "      <th>Accuracy</th>\n",
       "    </tr>\n",
       "  </thead>\n",
       "  <tbody>\n",
       "    <tr>\n",
       "      <th>0</th>\n",
       "      <td>1</td>\n",
       "      <td>10</td>\n",
       "      <td>0.958128</td>\n",
       "    </tr>\n",
       "    <tr>\n",
       "      <th>1</th>\n",
       "      <td>1</td>\n",
       "      <td>20</td>\n",
       "      <td>0.965271</td>\n",
       "    </tr>\n",
       "    <tr>\n",
       "      <th>2</th>\n",
       "      <td>1</td>\n",
       "      <td>30</td>\n",
       "      <td>0.979064</td>\n",
       "    </tr>\n",
       "    <tr>\n",
       "      <th>3</th>\n",
       "      <td>1</td>\n",
       "      <td>40</td>\n",
       "      <td>0.985961</td>\n",
       "    </tr>\n",
       "    <tr>\n",
       "      <th>4</th>\n",
       "      <td>1</td>\n",
       "      <td>50</td>\n",
       "      <td>0.985961</td>\n",
       "    </tr>\n",
       "    <tr>\n",
       "      <th>...</th>\n",
       "      <td>...</td>\n",
       "      <td>...</td>\n",
       "      <td>...</td>\n",
       "    </tr>\n",
       "    <tr>\n",
       "      <th>255</th>\n",
       "      <td>13</td>\n",
       "      <td>160</td>\n",
       "      <td>0.958128</td>\n",
       "    </tr>\n",
       "    <tr>\n",
       "      <th>256</th>\n",
       "      <td>13</td>\n",
       "      <td>170</td>\n",
       "      <td>0.958128</td>\n",
       "    </tr>\n",
       "    <tr>\n",
       "      <th>257</th>\n",
       "      <td>13</td>\n",
       "      <td>180</td>\n",
       "      <td>0.958128</td>\n",
       "    </tr>\n",
       "    <tr>\n",
       "      <th>258</th>\n",
       "      <td>13</td>\n",
       "      <td>190</td>\n",
       "      <td>0.958128</td>\n",
       "    </tr>\n",
       "    <tr>\n",
       "      <th>259</th>\n",
       "      <td>13</td>\n",
       "      <td>200</td>\n",
       "      <td>0.958128</td>\n",
       "    </tr>\n",
       "  </tbody>\n",
       "</table>\n",
       "<p>260 rows × 3 columns</p>\n",
       "</div>"
      ],
      "text/plain": [
       "     max_features  n_estimators  Accuracy\n",
       "0               1            10  0.958128\n",
       "1               1            20  0.965271\n",
       "2               1            30  0.979064\n",
       "3               1            40  0.985961\n",
       "4               1            50  0.985961\n",
       "..            ...           ...       ...\n",
       "255            13           160  0.958128\n",
       "256            13           170  0.958128\n",
       "257            13           180  0.958128\n",
       "258            13           190  0.958128\n",
       "259            13           200  0.958128\n",
       "\n",
       "[260 rows x 3 columns]"
      ]
     },
     "execution_count": 109,
     "metadata": {},
     "output_type": "execute_result"
    }
   ],
   "source": [
    "grid_results = pd.concat([pd.DataFrame(grid.cv_results_[\"params\"]),pd.DataFrame(grid.cv_results_[\"mean_test_score\"], columns=[\"Accuracy\"])],axis=1)\n",
    "grid_results"
   ]
  },
  {
   "cell_type": "markdown",
   "id": "1ac0f4a9-08ed-40da-8602-d4fc5978fce1",
   "metadata": {},
   "source": [
    "## 12. Preparing data for making contour plots"
   ]
  },
  {
   "cell_type": "markdown",
   "id": "d7ee4aca-3430-4e27-a174-5397ca0ff6c6",
   "metadata": {},
   "source": [
    "In order to create meaningful contour plots or 3D plots, the data needs to be reshaped into a grid structure"
   ]
  },
  {
   "cell_type": "code",
   "execution_count": 113,
   "id": "5a1f3702-3df2-4e6f-ad67-3a867c415660",
   "metadata": {},
   "outputs": [
    {
     "data": {
      "text/html": [
       "<div>\n",
       "<style scoped>\n",
       "    .dataframe tbody tr th:only-of-type {\n",
       "        vertical-align: middle;\n",
       "    }\n",
       "\n",
       "    .dataframe tbody tr th {\n",
       "        vertical-align: top;\n",
       "    }\n",
       "\n",
       "    .dataframe thead th {\n",
       "        text-align: right;\n",
       "    }\n",
       "</style>\n",
       "<table border=\"1\" class=\"dataframe\">\n",
       "  <thead>\n",
       "    <tr style=\"text-align: right;\">\n",
       "      <th></th>\n",
       "      <th></th>\n",
       "      <th>Accuracy</th>\n",
       "    </tr>\n",
       "    <tr>\n",
       "      <th>max_features</th>\n",
       "      <th>n_estimators</th>\n",
       "      <th></th>\n",
       "    </tr>\n",
       "  </thead>\n",
       "  <tbody>\n",
       "    <tr>\n",
       "      <th rowspan=\"5\" valign=\"top\">1</th>\n",
       "      <th>10</th>\n",
       "      <td>0.958128</td>\n",
       "    </tr>\n",
       "    <tr>\n",
       "      <th>20</th>\n",
       "      <td>0.965271</td>\n",
       "    </tr>\n",
       "    <tr>\n",
       "      <th>30</th>\n",
       "      <td>0.979064</td>\n",
       "    </tr>\n",
       "    <tr>\n",
       "      <th>40</th>\n",
       "      <td>0.985961</td>\n",
       "    </tr>\n",
       "    <tr>\n",
       "      <th>50</th>\n",
       "      <td>0.985961</td>\n",
       "    </tr>\n",
       "    <tr>\n",
       "      <th>...</th>\n",
       "      <th>...</th>\n",
       "      <td>...</td>\n",
       "    </tr>\n",
       "    <tr>\n",
       "      <th rowspan=\"5\" valign=\"top\">13</th>\n",
       "      <th>160</th>\n",
       "      <td>0.958128</td>\n",
       "    </tr>\n",
       "    <tr>\n",
       "      <th>170</th>\n",
       "      <td>0.958128</td>\n",
       "    </tr>\n",
       "    <tr>\n",
       "      <th>180</th>\n",
       "      <td>0.958128</td>\n",
       "    </tr>\n",
       "    <tr>\n",
       "      <th>190</th>\n",
       "      <td>0.958128</td>\n",
       "    </tr>\n",
       "    <tr>\n",
       "      <th>200</th>\n",
       "      <td>0.958128</td>\n",
       "    </tr>\n",
       "  </tbody>\n",
       "</table>\n",
       "<p>260 rows × 1 columns</p>\n",
       "</div>"
      ],
      "text/plain": [
       "                           Accuracy\n",
       "max_features n_estimators          \n",
       "1            10            0.958128\n",
       "             20            0.965271\n",
       "             30            0.979064\n",
       "             40            0.985961\n",
       "             50            0.985961\n",
       "...                             ...\n",
       "13           160           0.958128\n",
       "             170           0.958128\n",
       "             180           0.958128\n",
       "             190           0.958128\n",
       "             200           0.958128\n",
       "\n",
       "[260 rows x 1 columns]"
      ]
     },
     "execution_count": 113,
     "metadata": {},
     "output_type": "execute_result"
    }
   ],
   "source": [
    "grid_contour = grid_results.groupby(['max_features','n_estimators']).mean()\n",
    "grid_contour"
   ]
  },
  {
   "cell_type": "code",
   "execution_count": 115,
   "id": "790c7f5e-e795-4980-bcb4-bc4596bf69ea",
   "metadata": {},
   "outputs": [
    {
     "data": {
      "text/html": [
       "<div>\n",
       "<style scoped>\n",
       "    .dataframe tbody tr th:only-of-type {\n",
       "        vertical-align: middle;\n",
       "    }\n",
       "\n",
       "    .dataframe tbody tr th {\n",
       "        vertical-align: top;\n",
       "    }\n",
       "\n",
       "    .dataframe thead th {\n",
       "        text-align: right;\n",
       "    }\n",
       "</style>\n",
       "<table border=\"1\" class=\"dataframe\">\n",
       "  <thead>\n",
       "    <tr style=\"text-align: right;\">\n",
       "      <th>n_estimators</th>\n",
       "      <th>10</th>\n",
       "      <th>20</th>\n",
       "      <th>30</th>\n",
       "      <th>40</th>\n",
       "      <th>50</th>\n",
       "      <th>60</th>\n",
       "      <th>70</th>\n",
       "      <th>80</th>\n",
       "      <th>90</th>\n",
       "      <th>100</th>\n",
       "      <th>110</th>\n",
       "      <th>120</th>\n",
       "      <th>130</th>\n",
       "      <th>140</th>\n",
       "      <th>150</th>\n",
       "      <th>160</th>\n",
       "      <th>170</th>\n",
       "      <th>180</th>\n",
       "      <th>190</th>\n",
       "      <th>200</th>\n",
       "    </tr>\n",
       "    <tr>\n",
       "      <th>max_features</th>\n",
       "      <th></th>\n",
       "      <th></th>\n",
       "      <th></th>\n",
       "      <th></th>\n",
       "      <th></th>\n",
       "      <th></th>\n",
       "      <th></th>\n",
       "      <th></th>\n",
       "      <th></th>\n",
       "      <th></th>\n",
       "      <th></th>\n",
       "      <th></th>\n",
       "      <th></th>\n",
       "      <th></th>\n",
       "      <th></th>\n",
       "      <th></th>\n",
       "      <th></th>\n",
       "      <th></th>\n",
       "      <th></th>\n",
       "      <th></th>\n",
       "    </tr>\n",
       "  </thead>\n",
       "  <tbody>\n",
       "    <tr>\n",
       "      <th>1</th>\n",
       "      <td>0.958128</td>\n",
       "      <td>0.965271</td>\n",
       "      <td>0.979064</td>\n",
       "      <td>0.985961</td>\n",
       "      <td>0.985961</td>\n",
       "      <td>0.985961</td>\n",
       "      <td>0.985961</td>\n",
       "      <td>0.985961</td>\n",
       "      <td>0.985961</td>\n",
       "      <td>0.985961</td>\n",
       "      <td>0.985961</td>\n",
       "      <td>0.985961</td>\n",
       "      <td>0.985961</td>\n",
       "      <td>0.985961</td>\n",
       "      <td>0.985961</td>\n",
       "      <td>0.985961</td>\n",
       "      <td>0.985961</td>\n",
       "      <td>0.985961</td>\n",
       "      <td>0.985961</td>\n",
       "      <td>0.985961</td>\n",
       "    </tr>\n",
       "    <tr>\n",
       "      <th>2</th>\n",
       "      <td>0.971921</td>\n",
       "      <td>0.971921</td>\n",
       "      <td>0.985714</td>\n",
       "      <td>0.985714</td>\n",
       "      <td>0.992857</td>\n",
       "      <td>0.985714</td>\n",
       "      <td>0.985714</td>\n",
       "      <td>0.979064</td>\n",
       "      <td>0.979064</td>\n",
       "      <td>0.985961</td>\n",
       "      <td>0.992857</td>\n",
       "      <td>0.985961</td>\n",
       "      <td>0.985961</td>\n",
       "      <td>0.979064</td>\n",
       "      <td>0.979064</td>\n",
       "      <td>0.979064</td>\n",
       "      <td>0.979064</td>\n",
       "      <td>0.979064</td>\n",
       "      <td>0.979064</td>\n",
       "      <td>0.979064</td>\n",
       "    </tr>\n",
       "    <tr>\n",
       "      <th>3</th>\n",
       "      <td>0.971921</td>\n",
       "      <td>0.971921</td>\n",
       "      <td>0.979310</td>\n",
       "      <td>0.972167</td>\n",
       "      <td>0.979064</td>\n",
       "      <td>0.985961</td>\n",
       "      <td>0.985961</td>\n",
       "      <td>0.979064</td>\n",
       "      <td>0.985961</td>\n",
       "      <td>0.979064</td>\n",
       "      <td>0.979064</td>\n",
       "      <td>0.979064</td>\n",
       "      <td>0.985961</td>\n",
       "      <td>0.985961</td>\n",
       "      <td>0.985961</td>\n",
       "      <td>0.985961</td>\n",
       "      <td>0.985961</td>\n",
       "      <td>0.985961</td>\n",
       "      <td>0.979064</td>\n",
       "      <td>0.985961</td>\n",
       "    </tr>\n",
       "    <tr>\n",
       "      <th>4</th>\n",
       "      <td>0.957882</td>\n",
       "      <td>0.978818</td>\n",
       "      <td>0.971675</td>\n",
       "      <td>0.971675</td>\n",
       "      <td>0.985961</td>\n",
       "      <td>0.985961</td>\n",
       "      <td>0.985961</td>\n",
       "      <td>0.985961</td>\n",
       "      <td>0.985961</td>\n",
       "      <td>0.985961</td>\n",
       "      <td>0.985961</td>\n",
       "      <td>0.985961</td>\n",
       "      <td>0.985961</td>\n",
       "      <td>0.985961</td>\n",
       "      <td>0.985961</td>\n",
       "      <td>0.985961</td>\n",
       "      <td>0.985961</td>\n",
       "      <td>0.985961</td>\n",
       "      <td>0.985961</td>\n",
       "      <td>0.985961</td>\n",
       "    </tr>\n",
       "    <tr>\n",
       "      <th>5</th>\n",
       "      <td>0.943842</td>\n",
       "      <td>0.965271</td>\n",
       "      <td>0.986207</td>\n",
       "      <td>0.972167</td>\n",
       "      <td>0.972167</td>\n",
       "      <td>0.972167</td>\n",
       "      <td>0.972167</td>\n",
       "      <td>0.979064</td>\n",
       "      <td>0.979064</td>\n",
       "      <td>0.979064</td>\n",
       "      <td>0.979064</td>\n",
       "      <td>0.979064</td>\n",
       "      <td>0.979064</td>\n",
       "      <td>0.979064</td>\n",
       "      <td>0.979064</td>\n",
       "      <td>0.979064</td>\n",
       "      <td>0.979064</td>\n",
       "      <td>0.979064</td>\n",
       "      <td>0.979064</td>\n",
       "      <td>0.979064</td>\n",
       "    </tr>\n",
       "    <tr>\n",
       "      <th>6</th>\n",
       "      <td>0.971921</td>\n",
       "      <td>0.965025</td>\n",
       "      <td>0.971921</td>\n",
       "      <td>0.979064</td>\n",
       "      <td>0.979064</td>\n",
       "      <td>0.979064</td>\n",
       "      <td>0.979064</td>\n",
       "      <td>0.979064</td>\n",
       "      <td>0.979064</td>\n",
       "      <td>0.979064</td>\n",
       "      <td>0.972167</td>\n",
       "      <td>0.979064</td>\n",
       "      <td>0.979064</td>\n",
       "      <td>0.979064</td>\n",
       "      <td>0.979064</td>\n",
       "      <td>0.972167</td>\n",
       "      <td>0.979064</td>\n",
       "      <td>0.979064</td>\n",
       "      <td>0.979064</td>\n",
       "      <td>0.972167</td>\n",
       "    </tr>\n",
       "    <tr>\n",
       "      <th>7</th>\n",
       "      <td>0.950985</td>\n",
       "      <td>0.965271</td>\n",
       "      <td>0.979064</td>\n",
       "      <td>0.979064</td>\n",
       "      <td>0.979064</td>\n",
       "      <td>0.979064</td>\n",
       "      <td>0.979064</td>\n",
       "      <td>0.979064</td>\n",
       "      <td>0.979064</td>\n",
       "      <td>0.972167</td>\n",
       "      <td>0.972167</td>\n",
       "      <td>0.979064</td>\n",
       "      <td>0.979064</td>\n",
       "      <td>0.979064</td>\n",
       "      <td>0.979064</td>\n",
       "      <td>0.979064</td>\n",
       "      <td>0.979064</td>\n",
       "      <td>0.979064</td>\n",
       "      <td>0.972167</td>\n",
       "      <td>0.972167</td>\n",
       "    </tr>\n",
       "    <tr>\n",
       "      <th>8</th>\n",
       "      <td>0.929557</td>\n",
       "      <td>0.943596</td>\n",
       "      <td>0.950985</td>\n",
       "      <td>0.958128</td>\n",
       "      <td>0.965271</td>\n",
       "      <td>0.965271</td>\n",
       "      <td>0.958128</td>\n",
       "      <td>0.965271</td>\n",
       "      <td>0.965025</td>\n",
       "      <td>0.965025</td>\n",
       "      <td>0.965025</td>\n",
       "      <td>0.972167</td>\n",
       "      <td>0.972167</td>\n",
       "      <td>0.972167</td>\n",
       "      <td>0.972167</td>\n",
       "      <td>0.972167</td>\n",
       "      <td>0.972167</td>\n",
       "      <td>0.972167</td>\n",
       "      <td>0.972167</td>\n",
       "      <td>0.972167</td>\n",
       "    </tr>\n",
       "    <tr>\n",
       "      <th>9</th>\n",
       "      <td>0.957882</td>\n",
       "      <td>0.957882</td>\n",
       "      <td>0.965025</td>\n",
       "      <td>0.965025</td>\n",
       "      <td>0.965025</td>\n",
       "      <td>0.958128</td>\n",
       "      <td>0.965025</td>\n",
       "      <td>0.965025</td>\n",
       "      <td>0.965025</td>\n",
       "      <td>0.965025</td>\n",
       "      <td>0.965025</td>\n",
       "      <td>0.958128</td>\n",
       "      <td>0.958128</td>\n",
       "      <td>0.965025</td>\n",
       "      <td>0.965025</td>\n",
       "      <td>0.972167</td>\n",
       "      <td>0.972167</td>\n",
       "      <td>0.972167</td>\n",
       "      <td>0.972167</td>\n",
       "      <td>0.972167</td>\n",
       "    </tr>\n",
       "    <tr>\n",
       "      <th>10</th>\n",
       "      <td>0.950739</td>\n",
       "      <td>0.958128</td>\n",
       "      <td>0.965271</td>\n",
       "      <td>0.965271</td>\n",
       "      <td>0.965271</td>\n",
       "      <td>0.958128</td>\n",
       "      <td>0.965271</td>\n",
       "      <td>0.965271</td>\n",
       "      <td>0.958128</td>\n",
       "      <td>0.958128</td>\n",
       "      <td>0.958128</td>\n",
       "      <td>0.958128</td>\n",
       "      <td>0.958128</td>\n",
       "      <td>0.958128</td>\n",
       "      <td>0.958128</td>\n",
       "      <td>0.958128</td>\n",
       "      <td>0.965271</td>\n",
       "      <td>0.958128</td>\n",
       "      <td>0.965271</td>\n",
       "      <td>0.965271</td>\n",
       "    </tr>\n",
       "    <tr>\n",
       "      <th>11</th>\n",
       "      <td>0.950985</td>\n",
       "      <td>0.957882</td>\n",
       "      <td>0.950985</td>\n",
       "      <td>0.950985</td>\n",
       "      <td>0.944089</td>\n",
       "      <td>0.951232</td>\n",
       "      <td>0.944089</td>\n",
       "      <td>0.950985</td>\n",
       "      <td>0.957882</td>\n",
       "      <td>0.950985</td>\n",
       "      <td>0.950985</td>\n",
       "      <td>0.950985</td>\n",
       "      <td>0.950985</td>\n",
       "      <td>0.957882</td>\n",
       "      <td>0.958128</td>\n",
       "      <td>0.957882</td>\n",
       "      <td>0.950985</td>\n",
       "      <td>0.957882</td>\n",
       "      <td>0.950985</td>\n",
       "      <td>0.950985</td>\n",
       "    </tr>\n",
       "    <tr>\n",
       "      <th>12</th>\n",
       "      <td>0.944089</td>\n",
       "      <td>0.944335</td>\n",
       "      <td>0.951232</td>\n",
       "      <td>0.951232</td>\n",
       "      <td>0.958374</td>\n",
       "      <td>0.958374</td>\n",
       "      <td>0.951232</td>\n",
       "      <td>0.972167</td>\n",
       "      <td>0.965025</td>\n",
       "      <td>0.958128</td>\n",
       "      <td>0.958128</td>\n",
       "      <td>0.958128</td>\n",
       "      <td>0.958128</td>\n",
       "      <td>0.965025</td>\n",
       "      <td>0.958128</td>\n",
       "      <td>0.958128</td>\n",
       "      <td>0.958128</td>\n",
       "      <td>0.958128</td>\n",
       "      <td>0.965271</td>\n",
       "      <td>0.958128</td>\n",
       "    </tr>\n",
       "    <tr>\n",
       "      <th>13</th>\n",
       "      <td>0.944089</td>\n",
       "      <td>0.951232</td>\n",
       "      <td>0.958128</td>\n",
       "      <td>0.951232</td>\n",
       "      <td>0.958128</td>\n",
       "      <td>0.951232</td>\n",
       "      <td>0.951232</td>\n",
       "      <td>0.958128</td>\n",
       "      <td>0.958128</td>\n",
       "      <td>0.958128</td>\n",
       "      <td>0.958128</td>\n",
       "      <td>0.958128</td>\n",
       "      <td>0.958128</td>\n",
       "      <td>0.958128</td>\n",
       "      <td>0.958128</td>\n",
       "      <td>0.958128</td>\n",
       "      <td>0.958128</td>\n",
       "      <td>0.958128</td>\n",
       "      <td>0.958128</td>\n",
       "      <td>0.958128</td>\n",
       "    </tr>\n",
       "  </tbody>\n",
       "</table>\n",
       "</div>"
      ],
      "text/plain": [
       "n_estimators       10        20        30        40        50        60   \\\n",
       "max_features                                                               \n",
       "1             0.958128  0.965271  0.979064  0.985961  0.985961  0.985961   \n",
       "2             0.971921  0.971921  0.985714  0.985714  0.992857  0.985714   \n",
       "3             0.971921  0.971921  0.979310  0.972167  0.979064  0.985961   \n",
       "4             0.957882  0.978818  0.971675  0.971675  0.985961  0.985961   \n",
       "5             0.943842  0.965271  0.986207  0.972167  0.972167  0.972167   \n",
       "6             0.971921  0.965025  0.971921  0.979064  0.979064  0.979064   \n",
       "7             0.950985  0.965271  0.979064  0.979064  0.979064  0.979064   \n",
       "8             0.929557  0.943596  0.950985  0.958128  0.965271  0.965271   \n",
       "9             0.957882  0.957882  0.965025  0.965025  0.965025  0.958128   \n",
       "10            0.950739  0.958128  0.965271  0.965271  0.965271  0.958128   \n",
       "11            0.950985  0.957882  0.950985  0.950985  0.944089  0.951232   \n",
       "12            0.944089  0.944335  0.951232  0.951232  0.958374  0.958374   \n",
       "13            0.944089  0.951232  0.958128  0.951232  0.958128  0.951232   \n",
       "\n",
       "n_estimators       70        80        90        100       110       120  \\\n",
       "max_features                                                               \n",
       "1             0.985961  0.985961  0.985961  0.985961  0.985961  0.985961   \n",
       "2             0.985714  0.979064  0.979064  0.985961  0.992857  0.985961   \n",
       "3             0.985961  0.979064  0.985961  0.979064  0.979064  0.979064   \n",
       "4             0.985961  0.985961  0.985961  0.985961  0.985961  0.985961   \n",
       "5             0.972167  0.979064  0.979064  0.979064  0.979064  0.979064   \n",
       "6             0.979064  0.979064  0.979064  0.979064  0.972167  0.979064   \n",
       "7             0.979064  0.979064  0.979064  0.972167  0.972167  0.979064   \n",
       "8             0.958128  0.965271  0.965025  0.965025  0.965025  0.972167   \n",
       "9             0.965025  0.965025  0.965025  0.965025  0.965025  0.958128   \n",
       "10            0.965271  0.965271  0.958128  0.958128  0.958128  0.958128   \n",
       "11            0.944089  0.950985  0.957882  0.950985  0.950985  0.950985   \n",
       "12            0.951232  0.972167  0.965025  0.958128  0.958128  0.958128   \n",
       "13            0.951232  0.958128  0.958128  0.958128  0.958128  0.958128   \n",
       "\n",
       "n_estimators       130       140       150       160       170       180  \\\n",
       "max_features                                                               \n",
       "1             0.985961  0.985961  0.985961  0.985961  0.985961  0.985961   \n",
       "2             0.985961  0.979064  0.979064  0.979064  0.979064  0.979064   \n",
       "3             0.985961  0.985961  0.985961  0.985961  0.985961  0.985961   \n",
       "4             0.985961  0.985961  0.985961  0.985961  0.985961  0.985961   \n",
       "5             0.979064  0.979064  0.979064  0.979064  0.979064  0.979064   \n",
       "6             0.979064  0.979064  0.979064  0.972167  0.979064  0.979064   \n",
       "7             0.979064  0.979064  0.979064  0.979064  0.979064  0.979064   \n",
       "8             0.972167  0.972167  0.972167  0.972167  0.972167  0.972167   \n",
       "9             0.958128  0.965025  0.965025  0.972167  0.972167  0.972167   \n",
       "10            0.958128  0.958128  0.958128  0.958128  0.965271  0.958128   \n",
       "11            0.950985  0.957882  0.958128  0.957882  0.950985  0.957882   \n",
       "12            0.958128  0.965025  0.958128  0.958128  0.958128  0.958128   \n",
       "13            0.958128  0.958128  0.958128  0.958128  0.958128  0.958128   \n",
       "\n",
       "n_estimators       190       200  \n",
       "max_features                      \n",
       "1             0.985961  0.985961  \n",
       "2             0.979064  0.979064  \n",
       "3             0.979064  0.985961  \n",
       "4             0.985961  0.985961  \n",
       "5             0.979064  0.979064  \n",
       "6             0.979064  0.972167  \n",
       "7             0.972167  0.972167  \n",
       "8             0.972167  0.972167  \n",
       "9             0.972167  0.972167  \n",
       "10            0.965271  0.965271  \n",
       "11            0.950985  0.950985  \n",
       "12            0.965271  0.958128  \n",
       "13            0.958128  0.958128  "
      ]
     },
     "execution_count": 115,
     "metadata": {},
     "output_type": "execute_result"
    }
   ],
   "source": [
    "grid_reset = grid_contour.reset_index()\n",
    "grid_reset.columns = ['max_features', 'n_estimators', 'Accuracy']\n",
    "grid_pivot = grid_reset.pivot(index='max_features', columns='n_estimators', values='Accuracy')\n",
    "grid_pivot"
   ]
  },
  {
   "cell_type": "code",
   "execution_count": 117,
   "id": "5ddc906b-5678-443d-b9f3-1d61b45a1b52",
   "metadata": {},
   "outputs": [],
   "source": [
    "x = grid_pivot.columns.values  \n",
    "y = grid_pivot.index.values\n",
    "z = grid_pivot.values "
   ]
  },
  {
   "cell_type": "markdown",
   "id": "5c003ecf-c3d4-48d4-b454-d45b0fa11320",
   "metadata": {},
   "source": [
    "## 13. 2D Contour Plot"
   ]
  },
  {
   "cell_type": "code",
   "execution_count": 120,
   "id": "8b43c7c7-37b8-47cd-bf0f-f30930a02c7f",
   "metadata": {},
   "outputs": [
    {
     "data": {
      "application/vnd.plotly.v1+json": {
       "config": {
        "plotlyServerURL": "https://plot.ly"
       },
       "data": [
        {
         "autocontour": true,
         "contours": {
          "end": 0.99,
          "size": 0.005,
          "start": 0.93
         },
         "type": "contour",
         "x": [
          10,
          20,
          30,
          40,
          50,
          60,
          70,
          80,
          90,
          100,
          110,
          120,
          130,
          140,
          150,
          160,
          170,
          180,
          190,
          200
         ],
         "y": [
          1,
          2,
          3,
          4,
          5,
          6,
          7,
          8,
          9,
          10,
          11,
          12,
          13
         ],
         "z": [
          [
           0.9581280788177342,
           0.9652709359605911,
           0.9790640394088669,
           0.9859605911330049,
           0.9859605911330049,
           0.9859605911330049,
           0.9859605911330049,
           0.9859605911330049,
           0.9859605911330049,
           0.9859605911330049,
           0.9859605911330049,
           0.9859605911330049,
           0.9859605911330049,
           0.9859605911330049,
           0.9859605911330049,
           0.9859605911330049,
           0.9859605911330049,
           0.9859605911330049,
           0.9859605911330049,
           0.9859605911330049
          ],
          [
           0.97192118226601,
           0.97192118226601,
           0.9857142857142858,
           0.9857142857142858,
           0.9928571428571429,
           0.9857142857142858,
           0.9857142857142858,
           0.9790640394088669,
           0.9790640394088669,
           0.9859605911330049,
           0.9928571428571429,
           0.9859605911330049,
           0.9859605911330049,
           0.9790640394088669,
           0.9790640394088669,
           0.9790640394088669,
           0.9790640394088669,
           0.9790640394088669,
           0.9790640394088669,
           0.9790640394088669
          ],
          [
           0.97192118226601,
           0.97192118226601,
           0.9793103448275862,
           0.9721674876847292,
           0.9790640394088669,
           0.9859605911330049,
           0.9859605911330049,
           0.9790640394088669,
           0.9859605911330049,
           0.9790640394088669,
           0.9790640394088669,
           0.9790640394088669,
           0.9859605911330049,
           0.9859605911330049,
           0.9859605911330049,
           0.9859605911330049,
           0.9859605911330049,
           0.9859605911330049,
           0.9790640394088669,
           0.9859605911330049
          ],
          [
           0.9578817733990148,
           0.9788177339901478,
           0.9716748768472907,
           0.9716748768472907,
           0.9859605911330049,
           0.9859605911330049,
           0.9859605911330049,
           0.9859605911330049,
           0.9859605911330049,
           0.9859605911330049,
           0.9859605911330049,
           0.9859605911330049,
           0.9859605911330049,
           0.9859605911330049,
           0.9859605911330049,
           0.9859605911330049,
           0.9859605911330049,
           0.9859605911330049,
           0.9859605911330049,
           0.9859605911330049
          ],
          [
           0.9438423645320198,
           0.9652709359605911,
           0.9862068965517242,
           0.9721674876847292,
           0.9721674876847292,
           0.9721674876847292,
           0.9721674876847292,
           0.9790640394088669,
           0.9790640394088669,
           0.9790640394088669,
           0.9790640394088669,
           0.9790640394088669,
           0.9790640394088669,
           0.9790640394088669,
           0.9790640394088669,
           0.9790640394088669,
           0.9790640394088669,
           0.9790640394088669,
           0.9790640394088669,
           0.9790640394088669
          ],
          [
           0.9719211822660098,
           0.9650246305418719,
           0.9719211822660098,
           0.9790640394088669,
           0.9790640394088669,
           0.9790640394088669,
           0.9790640394088669,
           0.9790640394088669,
           0.9790640394088669,
           0.9790640394088669,
           0.9721674876847292,
           0.9790640394088669,
           0.9790640394088669,
           0.9790640394088669,
           0.9790640394088669,
           0.9721674876847292,
           0.9790640394088669,
           0.9790640394088669,
           0.9790640394088669,
           0.9721674876847292
          ],
          [
           0.9509852216748769,
           0.9652709359605911,
           0.9790640394088669,
           0.9790640394088669,
           0.9790640394088669,
           0.9790640394088669,
           0.9790640394088669,
           0.9790640394088669,
           0.9790640394088669,
           0.9721674876847292,
           0.9721674876847292,
           0.9790640394088669,
           0.9790640394088669,
           0.9790640394088669,
           0.9790640394088669,
           0.9790640394088669,
           0.9790640394088669,
           0.9790640394088669,
           0.9721674876847292,
           0.9721674876847292
          ],
          [
           0.9295566502463055,
           0.9435960591133006,
           0.9509852216748769,
           0.958128078817734,
           0.9652709359605911,
           0.9652709359605911,
           0.958128078817734,
           0.9652709359605911,
           0.9650246305418719,
           0.9650246305418719,
           0.9650246305418719,
           0.9721674876847292,
           0.9721674876847292,
           0.9721674876847292,
           0.9721674876847292,
           0.9721674876847292,
           0.9721674876847292,
           0.9721674876847292,
           0.9721674876847292,
           0.9721674876847292
          ],
          [
           0.9578817733990148,
           0.9578817733990148,
           0.9650246305418719,
           0.9650246305418719,
           0.9650246305418719,
           0.958128078817734,
           0.9650246305418719,
           0.9650246305418719,
           0.9650246305418719,
           0.9650246305418719,
           0.9650246305418719,
           0.958128078817734,
           0.958128078817734,
           0.9650246305418719,
           0.9650246305418719,
           0.9721674876847292,
           0.9721674876847292,
           0.9721674876847292,
           0.9721674876847292,
           0.9721674876847292
          ],
          [
           0.9507389162561577,
           0.958128078817734,
           0.9652709359605911,
           0.9652709359605911,
           0.9652709359605911,
           0.958128078817734,
           0.9652709359605911,
           0.9652709359605911,
           0.958128078817734,
           0.958128078817734,
           0.958128078817734,
           0.958128078817734,
           0.958128078817734,
           0.958128078817734,
           0.958128078817734,
           0.958128078817734,
           0.9652709359605911,
           0.958128078817734,
           0.9652709359605911,
           0.9652709359605911
          ],
          [
           0.9509852216748769,
           0.9578817733990148,
           0.9509852216748769,
           0.9509852216748769,
           0.9440886699507389,
           0.951231527093596,
           0.9440886699507389,
           0.9509852216748769,
           0.9578817733990148,
           0.9509852216748769,
           0.9509852216748769,
           0.9509852216748769,
           0.9509852216748769,
           0.9578817733990148,
           0.958128078817734,
           0.9578817733990148,
           0.9509852216748769,
           0.9578817733990148,
           0.9509852216748769,
           0.9509852216748769
          ],
          [
           0.9440886699507389,
           0.9443349753694582,
           0.951231527093596,
           0.951231527093596,
           0.9583743842364532,
           0.9583743842364532,
           0.951231527093596,
           0.9721674876847292,
           0.9650246305418719,
           0.958128078817734,
           0.958128078817734,
           0.958128078817734,
           0.958128078817734,
           0.9650246305418719,
           0.958128078817734,
           0.958128078817734,
           0.958128078817734,
           0.958128078817734,
           0.9652709359605911,
           0.958128078817734
          ],
          [
           0.9440886699507389,
           0.951231527093596,
           0.958128078817734,
           0.951231527093596,
           0.958128078817734,
           0.951231527093596,
           0.951231527093596,
           0.958128078817734,
           0.958128078817734,
           0.958128078817734,
           0.958128078817734,
           0.958128078817734,
           0.958128078817734,
           0.958128078817734,
           0.958128078817734,
           0.958128078817734,
           0.958128078817734,
           0.958128078817734,
           0.958128078817734,
           0.958128078817734
          ]
         ]
        }
       ],
       "layout": {
        "autosize": false,
        "height": 500,
        "margin": {
         "b": 65,
         "l": 65,
         "r": 50,
         "t": 90
        },
        "template": {
         "data": {
          "bar": [
           {
            "error_x": {
             "color": "#2a3f5f"
            },
            "error_y": {
             "color": "#2a3f5f"
            },
            "marker": {
             "line": {
              "color": "#E5ECF6",
              "width": 0.5
             },
             "pattern": {
              "fillmode": "overlay",
              "size": 10,
              "solidity": 0.2
             }
            },
            "type": "bar"
           }
          ],
          "barpolar": [
           {
            "marker": {
             "line": {
              "color": "#E5ECF6",
              "width": 0.5
             },
             "pattern": {
              "fillmode": "overlay",
              "size": 10,
              "solidity": 0.2
             }
            },
            "type": "barpolar"
           }
          ],
          "carpet": [
           {
            "aaxis": {
             "endlinecolor": "#2a3f5f",
             "gridcolor": "white",
             "linecolor": "white",
             "minorgridcolor": "white",
             "startlinecolor": "#2a3f5f"
            },
            "baxis": {
             "endlinecolor": "#2a3f5f",
             "gridcolor": "white",
             "linecolor": "white",
             "minorgridcolor": "white",
             "startlinecolor": "#2a3f5f"
            },
            "type": "carpet"
           }
          ],
          "choropleth": [
           {
            "colorbar": {
             "outlinewidth": 0,
             "ticks": ""
            },
            "type": "choropleth"
           }
          ],
          "contour": [
           {
            "colorbar": {
             "outlinewidth": 0,
             "ticks": ""
            },
            "colorscale": [
             [
              0,
              "#0d0887"
             ],
             [
              0.1111111111111111,
              "#46039f"
             ],
             [
              0.2222222222222222,
              "#7201a8"
             ],
             [
              0.3333333333333333,
              "#9c179e"
             ],
             [
              0.4444444444444444,
              "#bd3786"
             ],
             [
              0.5555555555555556,
              "#d8576b"
             ],
             [
              0.6666666666666666,
              "#ed7953"
             ],
             [
              0.7777777777777778,
              "#fb9f3a"
             ],
             [
              0.8888888888888888,
              "#fdca26"
             ],
             [
              1,
              "#f0f921"
             ]
            ],
            "type": "contour"
           }
          ],
          "contourcarpet": [
           {
            "colorbar": {
             "outlinewidth": 0,
             "ticks": ""
            },
            "type": "contourcarpet"
           }
          ],
          "heatmap": [
           {
            "colorbar": {
             "outlinewidth": 0,
             "ticks": ""
            },
            "colorscale": [
             [
              0,
              "#0d0887"
             ],
             [
              0.1111111111111111,
              "#46039f"
             ],
             [
              0.2222222222222222,
              "#7201a8"
             ],
             [
              0.3333333333333333,
              "#9c179e"
             ],
             [
              0.4444444444444444,
              "#bd3786"
             ],
             [
              0.5555555555555556,
              "#d8576b"
             ],
             [
              0.6666666666666666,
              "#ed7953"
             ],
             [
              0.7777777777777778,
              "#fb9f3a"
             ],
             [
              0.8888888888888888,
              "#fdca26"
             ],
             [
              1,
              "#f0f921"
             ]
            ],
            "type": "heatmap"
           }
          ],
          "heatmapgl": [
           {
            "colorbar": {
             "outlinewidth": 0,
             "ticks": ""
            },
            "colorscale": [
             [
              0,
              "#0d0887"
             ],
             [
              0.1111111111111111,
              "#46039f"
             ],
             [
              0.2222222222222222,
              "#7201a8"
             ],
             [
              0.3333333333333333,
              "#9c179e"
             ],
             [
              0.4444444444444444,
              "#bd3786"
             ],
             [
              0.5555555555555556,
              "#d8576b"
             ],
             [
              0.6666666666666666,
              "#ed7953"
             ],
             [
              0.7777777777777778,
              "#fb9f3a"
             ],
             [
              0.8888888888888888,
              "#fdca26"
             ],
             [
              1,
              "#f0f921"
             ]
            ],
            "type": "heatmapgl"
           }
          ],
          "histogram": [
           {
            "marker": {
             "pattern": {
              "fillmode": "overlay",
              "size": 10,
              "solidity": 0.2
             }
            },
            "type": "histogram"
           }
          ],
          "histogram2d": [
           {
            "colorbar": {
             "outlinewidth": 0,
             "ticks": ""
            },
            "colorscale": [
             [
              0,
              "#0d0887"
             ],
             [
              0.1111111111111111,
              "#46039f"
             ],
             [
              0.2222222222222222,
              "#7201a8"
             ],
             [
              0.3333333333333333,
              "#9c179e"
             ],
             [
              0.4444444444444444,
              "#bd3786"
             ],
             [
              0.5555555555555556,
              "#d8576b"
             ],
             [
              0.6666666666666666,
              "#ed7953"
             ],
             [
              0.7777777777777778,
              "#fb9f3a"
             ],
             [
              0.8888888888888888,
              "#fdca26"
             ],
             [
              1,
              "#f0f921"
             ]
            ],
            "type": "histogram2d"
           }
          ],
          "histogram2dcontour": [
           {
            "colorbar": {
             "outlinewidth": 0,
             "ticks": ""
            },
            "colorscale": [
             [
              0,
              "#0d0887"
             ],
             [
              0.1111111111111111,
              "#46039f"
             ],
             [
              0.2222222222222222,
              "#7201a8"
             ],
             [
              0.3333333333333333,
              "#9c179e"
             ],
             [
              0.4444444444444444,
              "#bd3786"
             ],
             [
              0.5555555555555556,
              "#d8576b"
             ],
             [
              0.6666666666666666,
              "#ed7953"
             ],
             [
              0.7777777777777778,
              "#fb9f3a"
             ],
             [
              0.8888888888888888,
              "#fdca26"
             ],
             [
              1,
              "#f0f921"
             ]
            ],
            "type": "histogram2dcontour"
           }
          ],
          "mesh3d": [
           {
            "colorbar": {
             "outlinewidth": 0,
             "ticks": ""
            },
            "type": "mesh3d"
           }
          ],
          "parcoords": [
           {
            "line": {
             "colorbar": {
              "outlinewidth": 0,
              "ticks": ""
             }
            },
            "type": "parcoords"
           }
          ],
          "pie": [
           {
            "automargin": true,
            "type": "pie"
           }
          ],
          "scatter": [
           {
            "fillpattern": {
             "fillmode": "overlay",
             "size": 10,
             "solidity": 0.2
            },
            "type": "scatter"
           }
          ],
          "scatter3d": [
           {
            "line": {
             "colorbar": {
              "outlinewidth": 0,
              "ticks": ""
             }
            },
            "marker": {
             "colorbar": {
              "outlinewidth": 0,
              "ticks": ""
             }
            },
            "type": "scatter3d"
           }
          ],
          "scattercarpet": [
           {
            "marker": {
             "colorbar": {
              "outlinewidth": 0,
              "ticks": ""
             }
            },
            "type": "scattercarpet"
           }
          ],
          "scattergeo": [
           {
            "marker": {
             "colorbar": {
              "outlinewidth": 0,
              "ticks": ""
             }
            },
            "type": "scattergeo"
           }
          ],
          "scattergl": [
           {
            "marker": {
             "colorbar": {
              "outlinewidth": 0,
              "ticks": ""
             }
            },
            "type": "scattergl"
           }
          ],
          "scattermapbox": [
           {
            "marker": {
             "colorbar": {
              "outlinewidth": 0,
              "ticks": ""
             }
            },
            "type": "scattermapbox"
           }
          ],
          "scatterpolar": [
           {
            "marker": {
             "colorbar": {
              "outlinewidth": 0,
              "ticks": ""
             }
            },
            "type": "scatterpolar"
           }
          ],
          "scatterpolargl": [
           {
            "marker": {
             "colorbar": {
              "outlinewidth": 0,
              "ticks": ""
             }
            },
            "type": "scatterpolargl"
           }
          ],
          "scatterternary": [
           {
            "marker": {
             "colorbar": {
              "outlinewidth": 0,
              "ticks": ""
             }
            },
            "type": "scatterternary"
           }
          ],
          "surface": [
           {
            "colorbar": {
             "outlinewidth": 0,
             "ticks": ""
            },
            "colorscale": [
             [
              0,
              "#0d0887"
             ],
             [
              0.1111111111111111,
              "#46039f"
             ],
             [
              0.2222222222222222,
              "#7201a8"
             ],
             [
              0.3333333333333333,
              "#9c179e"
             ],
             [
              0.4444444444444444,
              "#bd3786"
             ],
             [
              0.5555555555555556,
              "#d8576b"
             ],
             [
              0.6666666666666666,
              "#ed7953"
             ],
             [
              0.7777777777777778,
              "#fb9f3a"
             ],
             [
              0.8888888888888888,
              "#fdca26"
             ],
             [
              1,
              "#f0f921"
             ]
            ],
            "type": "surface"
           }
          ],
          "table": [
           {
            "cells": {
             "fill": {
              "color": "#EBF0F8"
             },
             "line": {
              "color": "white"
             }
            },
            "header": {
             "fill": {
              "color": "#C8D4E3"
             },
             "line": {
              "color": "white"
             }
            },
            "type": "table"
           }
          ]
         },
         "layout": {
          "annotationdefaults": {
           "arrowcolor": "#2a3f5f",
           "arrowhead": 0,
           "arrowwidth": 1
          },
          "autotypenumbers": "strict",
          "coloraxis": {
           "colorbar": {
            "outlinewidth": 0,
            "ticks": ""
           }
          },
          "colorscale": {
           "diverging": [
            [
             0,
             "#8e0152"
            ],
            [
             0.1,
             "#c51b7d"
            ],
            [
             0.2,
             "#de77ae"
            ],
            [
             0.3,
             "#f1b6da"
            ],
            [
             0.4,
             "#fde0ef"
            ],
            [
             0.5,
             "#f7f7f7"
            ],
            [
             0.6,
             "#e6f5d0"
            ],
            [
             0.7,
             "#b8e186"
            ],
            [
             0.8,
             "#7fbc41"
            ],
            [
             0.9,
             "#4d9221"
            ],
            [
             1,
             "#276419"
            ]
           ],
           "sequential": [
            [
             0,
             "#0d0887"
            ],
            [
             0.1111111111111111,
             "#46039f"
            ],
            [
             0.2222222222222222,
             "#7201a8"
            ],
            [
             0.3333333333333333,
             "#9c179e"
            ],
            [
             0.4444444444444444,
             "#bd3786"
            ],
            [
             0.5555555555555556,
             "#d8576b"
            ],
            [
             0.6666666666666666,
             "#ed7953"
            ],
            [
             0.7777777777777778,
             "#fb9f3a"
            ],
            [
             0.8888888888888888,
             "#fdca26"
            ],
            [
             1,
             "#f0f921"
            ]
           ],
           "sequentialminus": [
            [
             0,
             "#0d0887"
            ],
            [
             0.1111111111111111,
             "#46039f"
            ],
            [
             0.2222222222222222,
             "#7201a8"
            ],
            [
             0.3333333333333333,
             "#9c179e"
            ],
            [
             0.4444444444444444,
             "#bd3786"
            ],
            [
             0.5555555555555556,
             "#d8576b"
            ],
            [
             0.6666666666666666,
             "#ed7953"
            ],
            [
             0.7777777777777778,
             "#fb9f3a"
            ],
            [
             0.8888888888888888,
             "#fdca26"
            ],
            [
             1,
             "#f0f921"
            ]
           ]
          },
          "colorway": [
           "#636efa",
           "#EF553B",
           "#00cc96",
           "#ab63fa",
           "#FFA15A",
           "#19d3f3",
           "#FF6692",
           "#B6E880",
           "#FF97FF",
           "#FECB52"
          ],
          "font": {
           "color": "#2a3f5f"
          },
          "geo": {
           "bgcolor": "white",
           "lakecolor": "white",
           "landcolor": "#E5ECF6",
           "showlakes": true,
           "showland": true,
           "subunitcolor": "white"
          },
          "hoverlabel": {
           "align": "left"
          },
          "hovermode": "closest",
          "mapbox": {
           "style": "light"
          },
          "paper_bgcolor": "white",
          "plot_bgcolor": "#E5ECF6",
          "polar": {
           "angularaxis": {
            "gridcolor": "white",
            "linecolor": "white",
            "ticks": ""
           },
           "bgcolor": "#E5ECF6",
           "radialaxis": {
            "gridcolor": "white",
            "linecolor": "white",
            "ticks": ""
           }
          },
          "scene": {
           "xaxis": {
            "backgroundcolor": "#E5ECF6",
            "gridcolor": "white",
            "gridwidth": 2,
            "linecolor": "white",
            "showbackground": true,
            "ticks": "",
            "zerolinecolor": "white"
           },
           "yaxis": {
            "backgroundcolor": "#E5ECF6",
            "gridcolor": "white",
            "gridwidth": 2,
            "linecolor": "white",
            "showbackground": true,
            "ticks": "",
            "zerolinecolor": "white"
           },
           "zaxis": {
            "backgroundcolor": "#E5ECF6",
            "gridcolor": "white",
            "gridwidth": 2,
            "linecolor": "white",
            "showbackground": true,
            "ticks": "",
            "zerolinecolor": "white"
           }
          },
          "shapedefaults": {
           "line": {
            "color": "#2a3f5f"
           }
          },
          "ternary": {
           "aaxis": {
            "gridcolor": "white",
            "linecolor": "white",
            "ticks": ""
           },
           "baxis": {
            "gridcolor": "white",
            "linecolor": "white",
            "ticks": ""
           },
           "bgcolor": "#E5ECF6",
           "caxis": {
            "gridcolor": "white",
            "linecolor": "white",
            "ticks": ""
           }
          },
          "title": {
           "x": 0.05
          },
          "xaxis": {
           "automargin": true,
           "gridcolor": "white",
           "linecolor": "white",
           "ticks": "",
           "title": {
            "standoff": 15
           },
           "zerolinecolor": "white",
           "zerolinewidth": 2
          },
          "yaxis": {
           "automargin": true,
           "gridcolor": "white",
           "linecolor": "white",
           "ticks": "",
           "title": {
            "standoff": 15
           },
           "zerolinecolor": "white",
           "zerolinewidth": 2
          }
         }
        },
        "title": {
         "text": "Hyperparameter tuning"
        },
        "width": 500,
        "xaxis": {
         "autorange": true,
         "range": [
          10,
          200
         ],
         "title": {
          "text": "n_estimators"
         },
         "type": "linear"
        },
        "yaxis": {
         "autorange": true,
         "range": [
          1,
          13
         ],
         "title": {
          "text": "max_features"
         },
         "type": "linear"
        }
       }
      },
      "image/png": "[encoded data removed]",
      "text/html": [
       "<div>                            <div id=\"9e1013c2-03a6-42a6-a470-3f028ad423e5\" class=\"plotly-graph-div\" style=\"height:500px; width:500px;\"></div>            <script type=\"text/javascript\">                require([\"plotly\"], function(Plotly) {                    window.PLOTLYENV=window.PLOTLYENV || {};                                    if (document.getElementById(\"9e1013c2-03a6-42a6-a470-3f028ad423e5\")) {                    Plotly.newPlot(                        \"9e1013c2-03a6-42a6-a470-3f028ad423e5\",                        [{\"x\":[10,20,30,40,50,60,70,80,90,100,110,120,130,140,150,160,170,180,190,200],\"y\":[1,2,3,4,5,6,7,8,9,10,11,12,13],\"z\":[[0.9581280788177342,0.9652709359605911,0.9790640394088669,0.9859605911330049,0.9859605911330049,0.9859605911330049,0.9859605911330049,0.9859605911330049,0.9859605911330049,0.9859605911330049,0.9859605911330049,0.9859605911330049,0.9859605911330049,0.9859605911330049,0.9859605911330049,0.9859605911330049,0.9859605911330049,0.9859605911330049,0.9859605911330049,0.9859605911330049],[0.97192118226601,0.97192118226601,0.9857142857142858,0.9857142857142858,0.9928571428571429,0.9857142857142858,0.9857142857142858,0.9790640394088669,0.9790640394088669,0.9859605911330049,0.9928571428571429,0.9859605911330049,0.9859605911330049,0.9790640394088669,0.9790640394088669,0.9790640394088669,0.9790640394088669,0.9790640394088669,0.9790640394088669,0.9790640394088669],[0.97192118226601,0.97192118226601,0.9793103448275862,0.9721674876847292,0.9790640394088669,0.9859605911330049,0.9859605911330049,0.9790640394088669,0.9859605911330049,0.9790640394088669,0.9790640394088669,0.9790640394088669,0.9859605911330049,0.9859605911330049,0.9859605911330049,0.9859605911330049,0.9859605911330049,0.9859605911330049,0.9790640394088669,0.9859605911330049],[0.9578817733990148,0.9788177339901478,0.9716748768472907,0.9716748768472907,0.9859605911330049,0.9859605911330049,0.9859605911330049,0.9859605911330049,0.9859605911330049,0.9859605911330049,0.9859605911330049,0.9859605911330049,0.9859605911330049,0.9859605911330049,0.9859605911330049,0.9859605911330049,0.9859605911330049,0.9859605911330049,0.9859605911330049,0.9859605911330049],[0.9438423645320198,0.9652709359605911,0.9862068965517242,0.9721674876847292,0.9721674876847292,0.9721674876847292,0.9721674876847292,0.9790640394088669,0.9790640394088669,0.9790640394088669,0.9790640394088669,0.9790640394088669,0.9790640394088669,0.9790640394088669,0.9790640394088669,0.9790640394088669,0.9790640394088669,0.9790640394088669,0.9790640394088669,0.9790640394088669],[0.9719211822660098,0.9650246305418719,0.9719211822660098,0.9790640394088669,0.9790640394088669,0.9790640394088669,0.9790640394088669,0.9790640394088669,0.9790640394088669,0.9790640394088669,0.9721674876847292,0.9790640394088669,0.9790640394088669,0.9790640394088669,0.9790640394088669,0.9721674876847292,0.9790640394088669,0.9790640394088669,0.9790640394088669,0.9721674876847292],[0.9509852216748769,0.9652709359605911,0.9790640394088669,0.9790640394088669,0.9790640394088669,0.9790640394088669,0.9790640394088669,0.9790640394088669,0.9790640394088669,0.9721674876847292,0.9721674876847292,0.9790640394088669,0.9790640394088669,0.9790640394088669,0.9790640394088669,0.9790640394088669,0.9790640394088669,0.9790640394088669,0.9721674876847292,0.9721674876847292],[0.9295566502463055,0.9435960591133006,0.9509852216748769,0.958128078817734,0.9652709359605911,0.9652709359605911,0.958128078817734,0.9652709359605911,0.9650246305418719,0.9650246305418719,0.9650246305418719,0.9721674876847292,0.9721674876847292,0.9721674876847292,0.9721674876847292,0.9721674876847292,0.9721674876847292,0.9721674876847292,0.9721674876847292,0.9721674876847292],[0.9578817733990148,0.9578817733990148,0.9650246305418719,0.9650246305418719,0.9650246305418719,0.958128078817734,0.9650246305418719,0.9650246305418719,0.9650246305418719,0.9650246305418719,0.9650246305418719,0.958128078817734,0.958128078817734,0.9650246305418719,0.9650246305418719,0.9721674876847292,0.9721674876847292,0.9721674876847292,0.9721674876847292,0.9721674876847292],[0.9507389162561577,0.958128078817734,0.9652709359605911,0.9652709359605911,0.9652709359605911,0.958128078817734,0.9652709359605911,0.9652709359605911,0.958128078817734,0.958128078817734,0.958128078817734,0.958128078817734,0.958128078817734,0.958128078817734,0.958128078817734,0.958128078817734,0.9652709359605911,0.958128078817734,0.9652709359605911,0.9652709359605911],[0.9509852216748769,0.9578817733990148,0.9509852216748769,0.9509852216748769,0.9440886699507389,0.951231527093596,0.9440886699507389,0.9509852216748769,0.9578817733990148,0.9509852216748769,0.9509852216748769,0.9509852216748769,0.9509852216748769,0.9578817733990148,0.958128078817734,0.9578817733990148,0.9509852216748769,0.9578817733990148,0.9509852216748769,0.9509852216748769],[0.9440886699507389,0.9443349753694582,0.951231527093596,0.951231527093596,0.9583743842364532,0.9583743842364532,0.951231527093596,0.9721674876847292,0.9650246305418719,0.958128078817734,0.958128078817734,0.958128078817734,0.958128078817734,0.9650246305418719,0.958128078817734,0.958128078817734,0.958128078817734,0.958128078817734,0.9652709359605911,0.958128078817734],[0.9440886699507389,0.951231527093596,0.958128078817734,0.951231527093596,0.958128078817734,0.951231527093596,0.951231527093596,0.958128078817734,0.958128078817734,0.958128078817734,0.958128078817734,0.958128078817734,0.958128078817734,0.958128078817734,0.958128078817734,0.958128078817734,0.958128078817734,0.958128078817734,0.958128078817734,0.958128078817734]],\"type\":\"contour\"}],                        {\"xaxis\":{\"title\":{\"text\":\"n_estimators\"}},\"yaxis\":{\"title\":{\"text\":\"max_features\"}},\"template\":{\"data\":{\"histogram2dcontour\":[{\"type\":\"histogram2dcontour\",\"colorbar\":{\"outlinewidth\":0,\"ticks\":\"\"},\"colorscale\":[[0.0,\"#0d0887\"],[0.1111111111111111,\"#46039f\"],[0.2222222222222222,\"#7201a8\"],[0.3333333333333333,\"#9c179e\"],[0.4444444444444444,\"#bd3786\"],[0.5555555555555556,\"#d8576b\"],[0.6666666666666666,\"#ed7953\"],[0.7777777777777778,\"#fb9f3a\"],[0.8888888888888888,\"#fdca26\"],[1.0,\"#f0f921\"]]}],\"choropleth\":[{\"type\":\"choropleth\",\"colorbar\":{\"outlinewidth\":0,\"ticks\":\"\"}}],\"histogram2d\":[{\"type\":\"histogram2d\",\"colorbar\":{\"outlinewidth\":0,\"ticks\":\"\"},\"colorscale\":[[0.0,\"#0d0887\"],[0.1111111111111111,\"#46039f\"],[0.2222222222222222,\"#7201a8\"],[0.3333333333333333,\"#9c179e\"],[0.4444444444444444,\"#bd3786\"],[0.5555555555555556,\"#d8576b\"],[0.6666666666666666,\"#ed7953\"],[0.7777777777777778,\"#fb9f3a\"],[0.8888888888888888,\"#fdca26\"],[1.0,\"#f0f921\"]]}],\"heatmap\":[{\"type\":\"heatmap\",\"colorbar\":{\"outlinewidth\":0,\"ticks\":\"\"},\"colorscale\":[[0.0,\"#0d0887\"],[0.1111111111111111,\"#46039f\"],[0.2222222222222222,\"#7201a8\"],[0.3333333333333333,\"#9c179e\"],[0.4444444444444444,\"#bd3786\"],[0.5555555555555556,\"#d8576b\"],[0.6666666666666666,\"#ed7953\"],[0.7777777777777778,\"#fb9f3a\"],[0.8888888888888888,\"#fdca26\"],[1.0,\"#f0f921\"]]}],\"heatmapgl\":[{\"type\":\"heatmapgl\",\"colorbar\":{\"outlinewidth\":0,\"ticks\":\"\"},\"colorscale\":[[0.0,\"#0d0887\"],[0.1111111111111111,\"#46039f\"],[0.2222222222222222,\"#7201a8\"],[0.3333333333333333,\"#9c179e\"],[0.4444444444444444,\"#bd3786\"],[0.5555555555555556,\"#d8576b\"],[0.6666666666666666,\"#ed7953\"],[0.7777777777777778,\"#fb9f3a\"],[0.8888888888888888,\"#fdca26\"],[1.0,\"#f0f921\"]]}],\"contourcarpet\":[{\"type\":\"contourcarpet\",\"colorbar\":{\"outlinewidth\":0,\"ticks\":\"\"}}],\"contour\":[{\"type\":\"contour\",\"colorbar\":{\"outlinewidth\":0,\"ticks\":\"\"},\"colorscale\":[[0.0,\"#0d0887\"],[0.1111111111111111,\"#46039f\"],[0.2222222222222222,\"#7201a8\"],[0.3333333333333333,\"#9c179e\"],[0.4444444444444444,\"#bd3786\"],[0.5555555555555556,\"#d8576b\"],[0.6666666666666666,\"#ed7953\"],[0.7777777777777778,\"#fb9f3a\"],[0.8888888888888888,\"#fdca26\"],[1.0,\"#f0f921\"]]}],\"surface\":[{\"type\":\"surface\",\"colorbar\":{\"outlinewidth\":0,\"ticks\":\"\"},\"colorscale\":[[0.0,\"#0d0887\"],[0.1111111111111111,\"#46039f\"],[0.2222222222222222,\"#7201a8\"],[0.3333333333333333,\"#9c179e\"],[0.4444444444444444,\"#bd3786\"],[0.5555555555555556,\"#d8576b\"],[0.6666666666666666,\"#ed7953\"],[0.7777777777777778,\"#fb9f3a\"],[0.8888888888888888,\"#fdca26\"],[1.0,\"#f0f921\"]]}],\"mesh3d\":[{\"type\":\"mesh3d\",\"colorbar\":{\"outlinewidth\":0,\"ticks\":\"\"}}],\"scatter\":[{\"fillpattern\":{\"fillmode\":\"overlay\",\"size\":10,\"solidity\":0.2},\"type\":\"scatter\"}],\"parcoords\":[{\"type\":\"parcoords\",\"line\":{\"colorbar\":{\"outlinewidth\":0,\"ticks\":\"\"}}}],\"scatterpolargl\":[{\"type\":\"scatterpolargl\",\"marker\":{\"colorbar\":{\"outlinewidth\":0,\"ticks\":\"\"}}}],\"bar\":[{\"error_x\":{\"color\":\"#2a3f5f\"},\"error_y\":{\"color\":\"#2a3f5f\"},\"marker\":{\"line\":{\"color\":\"#E5ECF6\",\"width\":0.5},\"pattern\":{\"fillmode\":\"overlay\",\"size\":10,\"solidity\":0.2}},\"type\":\"bar\"}],\"scattergeo\":[{\"type\":\"scattergeo\",\"marker\":{\"colorbar\":{\"outlinewidth\":0,\"ticks\":\"\"}}}],\"scatterpolar\":[{\"type\":\"scatterpolar\",\"marker\":{\"colorbar\":{\"outlinewidth\":0,\"ticks\":\"\"}}}],\"histogram\":[{\"marker\":{\"pattern\":{\"fillmode\":\"overlay\",\"size\":10,\"solidity\":0.2}},\"type\":\"histogram\"}],\"scattergl\":[{\"type\":\"scattergl\",\"marker\":{\"colorbar\":{\"outlinewidth\":0,\"ticks\":\"\"}}}],\"scatter3d\":[{\"type\":\"scatter3d\",\"line\":{\"colorbar\":{\"outlinewidth\":0,\"ticks\":\"\"}},\"marker\":{\"colorbar\":{\"outlinewidth\":0,\"ticks\":\"\"}}}],\"scattermapbox\":[{\"type\":\"scattermapbox\",\"marker\":{\"colorbar\":{\"outlinewidth\":0,\"ticks\":\"\"}}}],\"scatterternary\":[{\"type\":\"scatterternary\",\"marker\":{\"colorbar\":{\"outlinewidth\":0,\"ticks\":\"\"}}}],\"scattercarpet\":[{\"type\":\"scattercarpet\",\"marker\":{\"colorbar\":{\"outlinewidth\":0,\"ticks\":\"\"}}}],\"carpet\":[{\"aaxis\":{\"endlinecolor\":\"#2a3f5f\",\"gridcolor\":\"white\",\"linecolor\":\"white\",\"minorgridcolor\":\"white\",\"startlinecolor\":\"#2a3f5f\"},\"baxis\":{\"endlinecolor\":\"#2a3f5f\",\"gridcolor\":\"white\",\"linecolor\":\"white\",\"minorgridcolor\":\"white\",\"startlinecolor\":\"#2a3f5f\"},\"type\":\"carpet\"}],\"table\":[{\"cells\":{\"fill\":{\"color\":\"#EBF0F8\"},\"line\":{\"color\":\"white\"}},\"header\":{\"fill\":{\"color\":\"#C8D4E3\"},\"line\":{\"color\":\"white\"}},\"type\":\"table\"}],\"barpolar\":[{\"marker\":{\"line\":{\"color\":\"#E5ECF6\",\"width\":0.5},\"pattern\":{\"fillmode\":\"overlay\",\"size\":10,\"solidity\":0.2}},\"type\":\"barpolar\"}],\"pie\":[{\"automargin\":true,\"type\":\"pie\"}]},\"layout\":{\"autotypenumbers\":\"strict\",\"colorway\":[\"#636efa\",\"#EF553B\",\"#00cc96\",\"#ab63fa\",\"#FFA15A\",\"#19d3f3\",\"#FF6692\",\"#B6E880\",\"#FF97FF\",\"#FECB52\"],\"font\":{\"color\":\"#2a3f5f\"},\"hovermode\":\"closest\",\"hoverlabel\":{\"align\":\"left\"},\"paper_bgcolor\":\"white\",\"plot_bgcolor\":\"#E5ECF6\",\"polar\":{\"bgcolor\":\"#E5ECF6\",\"angularaxis\":{\"gridcolor\":\"white\",\"linecolor\":\"white\",\"ticks\":\"\"},\"radialaxis\":{\"gridcolor\":\"white\",\"linecolor\":\"white\",\"ticks\":\"\"}},\"ternary\":{\"bgcolor\":\"#E5ECF6\",\"aaxis\":{\"gridcolor\":\"white\",\"linecolor\":\"white\",\"ticks\":\"\"},\"baxis\":{\"gridcolor\":\"white\",\"linecolor\":\"white\",\"ticks\":\"\"},\"caxis\":{\"gridcolor\":\"white\",\"linecolor\":\"white\",\"ticks\":\"\"}},\"coloraxis\":{\"colorbar\":{\"outlinewidth\":0,\"ticks\":\"\"}},\"colorscale\":{\"sequential\":[[0.0,\"#0d0887\"],[0.1111111111111111,\"#46039f\"],[0.2222222222222222,\"#7201a8\"],[0.3333333333333333,\"#9c179e\"],[0.4444444444444444,\"#bd3786\"],[0.5555555555555556,\"#d8576b\"],[0.6666666666666666,\"#ed7953\"],[0.7777777777777778,\"#fb9f3a\"],[0.8888888888888888,\"#fdca26\"],[1.0,\"#f0f921\"]],\"sequentialminus\":[[0.0,\"#0d0887\"],[0.1111111111111111,\"#46039f\"],[0.2222222222222222,\"#7201a8\"],[0.3333333333333333,\"#9c179e\"],[0.4444444444444444,\"#bd3786\"],[0.5555555555555556,\"#d8576b\"],[0.6666666666666666,\"#ed7953\"],[0.7777777777777778,\"#fb9f3a\"],[0.8888888888888888,\"#fdca26\"],[1.0,\"#f0f921\"]],\"diverging\":[[0,\"#8e0152\"],[0.1,\"#c51b7d\"],[0.2,\"#de77ae\"],[0.3,\"#f1b6da\"],[0.4,\"#fde0ef\"],[0.5,\"#f7f7f7\"],[0.6,\"#e6f5d0\"],[0.7,\"#b8e186\"],[0.8,\"#7fbc41\"],[0.9,\"#4d9221\"],[1,\"#276419\"]]},\"xaxis\":{\"gridcolor\":\"white\",\"linecolor\":\"white\",\"ticks\":\"\",\"title\":{\"standoff\":15},\"zerolinecolor\":\"white\",\"automargin\":true,\"zerolinewidth\":2},\"yaxis\":{\"gridcolor\":\"white\",\"linecolor\":\"white\",\"ticks\":\"\",\"title\":{\"standoff\":15},\"zerolinecolor\":\"white\",\"automargin\":true,\"zerolinewidth\":2},\"scene\":{\"xaxis\":{\"backgroundcolor\":\"#E5ECF6\",\"gridcolor\":\"white\",\"linecolor\":\"white\",\"showbackground\":true,\"ticks\":\"\",\"zerolinecolor\":\"white\",\"gridwidth\":2},\"yaxis\":{\"backgroundcolor\":\"#E5ECF6\",\"gridcolor\":\"white\",\"linecolor\":\"white\",\"showbackground\":true,\"ticks\":\"\",\"zerolinecolor\":\"white\",\"gridwidth\":2},\"zaxis\":{\"backgroundcolor\":\"#E5ECF6\",\"gridcolor\":\"white\",\"linecolor\":\"white\",\"showbackground\":true,\"ticks\":\"\",\"zerolinecolor\":\"white\",\"gridwidth\":2}},\"shapedefaults\":{\"line\":{\"color\":\"#2a3f5f\"}},\"annotationdefaults\":{\"arrowcolor\":\"#2a3f5f\",\"arrowhead\":0,\"arrowwidth\":1},\"geo\":{\"bgcolor\":\"white\",\"landcolor\":\"#E5ECF6\",\"subunitcolor\":\"white\",\"showland\":true,\"showlakes\":true,\"lakecolor\":\"white\"},\"title\":{\"x\":0.05},\"mapbox\":{\"style\":\"light\"}}},\"margin\":{\"l\":65,\"r\":50,\"b\":65,\"t\":90},\"title\":{\"text\":\"Hyperparameter tuning\"},\"autosize\":false,\"width\":500,\"height\":500},                        {\"responsive\": true}                    ).then(function(){\n",
       "                            \n",
       "var gd = document.getElementById('9e1013c2-03a6-42a6-a470-3f028ad423e5');\n",
       "var x = new MutationObserver(function (mutations, observer) {{\n",
       "        var display = window.getComputedStyle(gd).display;\n",
       "        if (!display || display === 'none') {{\n",
       "            console.log([gd, 'removed!']);\n",
       "            Plotly.purge(gd);\n",
       "            observer.disconnect();\n",
       "        }}\n",
       "}});\n",
       "\n",
       "// Listen for the removal of the full notebook cells\n",
       "var notebookContainer = gd.closest('#notebook-container');\n",
       "if (notebookContainer) {{\n",
       "    x.observe(notebookContainer, {childList: true});\n",
       "}}\n",
       "\n",
       "// Listen for the clearing of the current output cell\n",
       "var outputEl = gd.closest('.output');\n",
       "if (outputEl) {{\n",
       "    x.observe(outputEl, {childList: true});\n",
       "}}\n",
       "\n",
       "                        })                };                });            </script>        </div>"
      ]
     },
     "metadata": {},
     "output_type": "display_data"
    }
   ],
   "source": [
    "# X and Y axes labels\n",
    "layout = go.Layout(\n",
    "            xaxis=go.layout.XAxis(\n",
    "              title=go.layout.xaxis.Title(\n",
    "              text='n_estimators')\n",
    "             ),\n",
    "             yaxis=go.layout.YAxis(\n",
    "              title=go.layout.yaxis.Title(\n",
    "              text='max_features') \n",
    "            ) )\n",
    "\n",
    "fig = go.Figure(data = [go.Contour(z=z, x=x, y=y)], layout=layout )\n",
    "\n",
    "fig.update_layout(title='Hyperparameter tuning', autosize=False,\n",
    "                  width=500, height=500,\n",
    "                  margin=dict(l=65, r=50, b=65, t=90))\n",
    "\n",
    "fig.show()"
   ]
  },
  {
   "cell_type": "markdown",
   "id": "13a13a92-0eda-4e05-b474-7d1a868f867b",
   "metadata": {},
   "source": [
    "## 14. 3D Surface Plot"
   ]
  },
  {
   "cell_type": "code",
   "execution_count": 123,
   "id": "87ad29aa-d056-420a-9f27-bb15fed19bcb",
   "metadata": {},
   "outputs": [
    {
     "data": {
      "application/vnd.plotly.v1+json": {
       "config": {
        "plotlyServerURL": "https://plot.ly"
       },
       "data": [
        {
         "type": "surface",
         "x": [
          10,
          20,
          30,
          40,
          50,
          60,
          70,
          80,
          90,
          100,
          110,
          120,
          130,
          140,
          150,
          160,
          170,
          180,
          190,
          200
         ],
         "y": [
          1,
          2,
          3,
          4,
          5,
          6,
          7,
          8,
          9,
          10,
          11,
          12,
          13
         ],
         "z": [
          [
           0.9581280788177342,
           0.9652709359605911,
           0.9790640394088669,
           0.9859605911330049,
           0.9859605911330049,
           0.9859605911330049,
           0.9859605911330049,
           0.9859605911330049,
           0.9859605911330049,
           0.9859605911330049,
           0.9859605911330049,
           0.9859605911330049,
           0.9859605911330049,
           0.9859605911330049,
           0.9859605911330049,
           0.9859605911330049,
           0.9859605911330049,
           0.9859605911330049,
           0.9859605911330049,
           0.9859605911330049
          ],
          [
           0.97192118226601,
           0.97192118226601,
           0.9857142857142858,
           0.9857142857142858,
           0.9928571428571429,
           0.9857142857142858,
           0.9857142857142858,
           0.9790640394088669,
           0.9790640394088669,
           0.9859605911330049,
           0.9928571428571429,
           0.9859605911330049,
           0.9859605911330049,
           0.9790640394088669,
           0.9790640394088669,
           0.9790640394088669,
           0.9790640394088669,
           0.9790640394088669,
           0.9790640394088669,
           0.9790640394088669
          ],
          [
           0.97192118226601,
           0.97192118226601,
           0.9793103448275862,
           0.9721674876847292,
           0.9790640394088669,
           0.9859605911330049,
           0.9859605911330049,
           0.9790640394088669,
           0.9859605911330049,
           0.9790640394088669,
           0.9790640394088669,
           0.9790640394088669,
           0.9859605911330049,
           0.9859605911330049,
           0.9859605911330049,
           0.9859605911330049,
           0.9859605911330049,
           0.9859605911330049,
           0.9790640394088669,
           0.9859605911330049
          ],
          [
           0.9578817733990148,
           0.9788177339901478,
           0.9716748768472907,
           0.9716748768472907,
           0.9859605911330049,
           0.9859605911330049,
           0.9859605911330049,
           0.9859605911330049,
           0.9859605911330049,
           0.9859605911330049,
           0.9859605911330049,
           0.9859605911330049,
           0.9859605911330049,
           0.9859605911330049,
           0.9859605911330049,
           0.9859605911330049,
           0.9859605911330049,
           0.9859605911330049,
           0.9859605911330049,
           0.9859605911330049
          ],
          [
           0.9438423645320198,
           0.9652709359605911,
           0.9862068965517242,
           0.9721674876847292,
           0.9721674876847292,
           0.9721674876847292,
           0.9721674876847292,
           0.9790640394088669,
           0.9790640394088669,
           0.9790640394088669,
           0.9790640394088669,
           0.9790640394088669,
           0.9790640394088669,
           0.9790640394088669,
           0.9790640394088669,
           0.9790640394088669,
           0.9790640394088669,
           0.9790640394088669,
           0.9790640394088669,
           0.9790640394088669
          ],
          [
           0.9719211822660098,
           0.9650246305418719,
           0.9719211822660098,
           0.9790640394088669,
           0.9790640394088669,
           0.9790640394088669,
           0.9790640394088669,
           0.9790640394088669,
           0.9790640394088669,
           0.9790640394088669,
           0.9721674876847292,
           0.9790640394088669,
           0.9790640394088669,
           0.9790640394088669,
           0.9790640394088669,
           0.9721674876847292,
           0.9790640394088669,
           0.9790640394088669,
           0.9790640394088669,
           0.9721674876847292
          ],
          [
           0.9509852216748769,
           0.9652709359605911,
           0.9790640394088669,
           0.9790640394088669,
           0.9790640394088669,
           0.9790640394088669,
           0.9790640394088669,
           0.9790640394088669,
           0.9790640394088669,
           0.9721674876847292,
           0.9721674876847292,
           0.9790640394088669,
           0.9790640394088669,
           0.9790640394088669,
           0.9790640394088669,
           0.9790640394088669,
           0.9790640394088669,
           0.9790640394088669,
           0.9721674876847292,
           0.9721674876847292
          ],
          [
           0.9295566502463055,
           0.9435960591133006,
           0.9509852216748769,
           0.958128078817734,
           0.9652709359605911,
           0.9652709359605911,
           0.958128078817734,
           0.9652709359605911,
           0.9650246305418719,
           0.9650246305418719,
           0.9650246305418719,
           0.9721674876847292,
           0.9721674876847292,
           0.9721674876847292,
           0.9721674876847292,
           0.9721674876847292,
           0.9721674876847292,
           0.9721674876847292,
           0.9721674876847292,
           0.9721674876847292
          ],
          [
           0.9578817733990148,
           0.9578817733990148,
           0.9650246305418719,
           0.9650246305418719,
           0.9650246305418719,
           0.958128078817734,
           0.9650246305418719,
           0.9650246305418719,
           0.9650246305418719,
           0.9650246305418719,
           0.9650246305418719,
           0.958128078817734,
           0.958128078817734,
           0.9650246305418719,
           0.9650246305418719,
           0.9721674876847292,
           0.9721674876847292,
           0.9721674876847292,
           0.9721674876847292,
           0.9721674876847292
          ],
          [
           0.9507389162561577,
           0.958128078817734,
           0.9652709359605911,
           0.9652709359605911,
           0.9652709359605911,
           0.958128078817734,
           0.9652709359605911,
           0.9652709359605911,
           0.958128078817734,
           0.958128078817734,
           0.958128078817734,
           0.958128078817734,
           0.958128078817734,
           0.958128078817734,
           0.958128078817734,
           0.958128078817734,
           0.9652709359605911,
           0.958128078817734,
           0.9652709359605911,
           0.9652709359605911
          ],
          [
           0.9509852216748769,
           0.9578817733990148,
           0.9509852216748769,
           0.9509852216748769,
           0.9440886699507389,
           0.951231527093596,
           0.9440886699507389,
           0.9509852216748769,
           0.9578817733990148,
           0.9509852216748769,
           0.9509852216748769,
           0.9509852216748769,
           0.9509852216748769,
           0.9578817733990148,
           0.958128078817734,
           0.9578817733990148,
           0.9509852216748769,
           0.9578817733990148,
           0.9509852216748769,
           0.9509852216748769
          ],
          [
           0.9440886699507389,
           0.9443349753694582,
           0.951231527093596,
           0.951231527093596,
           0.9583743842364532,
           0.9583743842364532,
           0.951231527093596,
           0.9721674876847292,
           0.9650246305418719,
           0.958128078817734,
           0.958128078817734,
           0.958128078817734,
           0.958128078817734,
           0.9650246305418719,
           0.958128078817734,
           0.958128078817734,
           0.958128078817734,
           0.958128078817734,
           0.9652709359605911,
           0.958128078817734
          ],
          [
           0.9440886699507389,
           0.951231527093596,
           0.958128078817734,
           0.951231527093596,
           0.958128078817734,
           0.951231527093596,
           0.951231527093596,
           0.958128078817734,
           0.958128078817734,
           0.958128078817734,
           0.958128078817734,
           0.958128078817734,
           0.958128078817734,
           0.958128078817734,
           0.958128078817734,
           0.958128078817734,
           0.958128078817734,
           0.958128078817734,
           0.958128078817734,
           0.958128078817734
          ]
         ]
        }
       ],
       "layout": {
        "autosize": false,
        "height": 800,
        "margin": {
         "b": 65,
         "l": 65,
         "r": 50,
         "t": 90
        },
        "scene": {
         "aspectmode": "auto",
         "aspectratio": {
          "x": 1,
          "y": 1,
          "z": 1
         },
         "camera": {
          "center": {
           "x": 0,
           "y": 0,
           "z": 0
          },
          "eye": {
           "x": 1.6379844241171744,
           "y": 1.6379844241171742,
           "z": 1.6379844241171744
          },
          "projection": {
           "type": "perspective"
          },
          "up": {
           "x": 0,
           "y": 0,
           "z": 1
          }
         },
         "xaxis": {
          "title": {
           "text": "n_estimators"
          },
          "type": "linear"
         },
         "yaxis": {
          "title": {
           "text": "max_features"
          },
          "type": "linear"
         },
         "zaxis": {
          "title": {
           "text": "Accuracy"
          },
          "type": "linear"
         }
        },
        "template": {
         "data": {
          "bar": [
           {
            "error_x": {
             "color": "#2a3f5f"
            },
            "error_y": {
             "color": "#2a3f5f"
            },
            "marker": {
             "line": {
              "color": "#E5ECF6",
              "width": 0.5
             },
             "pattern": {
              "fillmode": "overlay",
              "size": 10,
              "solidity": 0.2
             }
            },
            "type": "bar"
           }
          ],
          "barpolar": [
           {
            "marker": {
             "line": {
              "color": "#E5ECF6",
              "width": 0.5
             },
             "pattern": {
              "fillmode": "overlay",
              "size": 10,
              "solidity": 0.2
             }
            },
            "type": "barpolar"
           }
          ],
          "carpet": [
           {
            "aaxis": {
             "endlinecolor": "#2a3f5f",
             "gridcolor": "white",
             "linecolor": "white",
             "minorgridcolor": "white",
             "startlinecolor": "#2a3f5f"
            },
            "baxis": {
             "endlinecolor": "#2a3f5f",
             "gridcolor": "white",
             "linecolor": "white",
             "minorgridcolor": "white",
             "startlinecolor": "#2a3f5f"
            },
            "type": "carpet"
           }
          ],
          "choropleth": [
           {
            "colorbar": {
             "outlinewidth": 0,
             "ticks": ""
            },
            "type": "choropleth"
           }
          ],
          "contour": [
           {
            "colorbar": {
             "outlinewidth": 0,
             "ticks": ""
            },
            "colorscale": [
             [
              0,
              "#0d0887"
             ],
             [
              0.1111111111111111,
              "#46039f"
             ],
             [
              0.2222222222222222,
              "#7201a8"
             ],
             [
              0.3333333333333333,
              "#9c179e"
             ],
             [
              0.4444444444444444,
              "#bd3786"
             ],
             [
              0.5555555555555556,
              "#d8576b"
             ],
             [
              0.6666666666666666,
              "#ed7953"
             ],
             [
              0.7777777777777778,
              "#fb9f3a"
             ],
             [
              0.8888888888888888,
              "#fdca26"
             ],
             [
              1,
              "#f0f921"
             ]
            ],
            "type": "contour"
           }
          ],
          "contourcarpet": [
           {
            "colorbar": {
             "outlinewidth": 0,
             "ticks": ""
            },
            "type": "contourcarpet"
           }
          ],
          "heatmap": [
           {
            "colorbar": {
             "outlinewidth": 0,
             "ticks": ""
            },
            "colorscale": [
             [
              0,
              "#0d0887"
             ],
             [
              0.1111111111111111,
              "#46039f"
             ],
             [
              0.2222222222222222,
              "#7201a8"
             ],
             [
              0.3333333333333333,
              "#9c179e"
             ],
             [
              0.4444444444444444,
              "#bd3786"
             ],
             [
              0.5555555555555556,
              "#d8576b"
             ],
             [
              0.6666666666666666,
              "#ed7953"
             ],
             [
              0.7777777777777778,
              "#fb9f3a"
             ],
             [
              0.8888888888888888,
              "#fdca26"
             ],
             [
              1,
              "#f0f921"
             ]
            ],
            "type": "heatmap"
           }
          ],
          "heatmapgl": [
           {
            "colorbar": {
             "outlinewidth": 0,
             "ticks": ""
            },
            "colorscale": [
             [
              0,
              "#0d0887"
             ],
             [
              0.1111111111111111,
              "#46039f"
             ],
             [
              0.2222222222222222,
              "#7201a8"
             ],
             [
              0.3333333333333333,
              "#9c179e"
             ],
             [
              0.4444444444444444,
              "#bd3786"
             ],
             [
              0.5555555555555556,
              "#d8576b"
             ],
             [
              0.6666666666666666,
              "#ed7953"
             ],
             [
              0.7777777777777778,
              "#fb9f3a"
             ],
             [
              0.8888888888888888,
              "#fdca26"
             ],
             [
              1,
              "#f0f921"
             ]
            ],
            "type": "heatmapgl"
           }
          ],
          "histogram": [
           {
            "marker": {
             "pattern": {
              "fillmode": "overlay",
              "size": 10,
              "solidity": 0.2
             }
            },
            "type": "histogram"
           }
          ],
          "histogram2d": [
           {
            "colorbar": {
             "outlinewidth": 0,
             "ticks": ""
            },
            "colorscale": [
             [
              0,
              "#0d0887"
             ],
             [
              0.1111111111111111,
              "#46039f"
             ],
             [
              0.2222222222222222,
              "#7201a8"
             ],
             [
              0.3333333333333333,
              "#9c179e"
             ],
             [
              0.4444444444444444,
              "#bd3786"
             ],
             [
              0.5555555555555556,
              "#d8576b"
             ],
             [
              0.6666666666666666,
              "#ed7953"
             ],
             [
              0.7777777777777778,
              "#fb9f3a"
             ],
             [
              0.8888888888888888,
              "#fdca26"
             ],
             [
              1,
              "#f0f921"
             ]
            ],
            "type": "histogram2d"
           }
          ],
          "histogram2dcontour": [
           {
            "colorbar": {
             "outlinewidth": 0,
             "ticks": ""
            },
            "colorscale": [
             [
              0,
              "#0d0887"
             ],
             [
              0.1111111111111111,
              "#46039f"
             ],
             [
              0.2222222222222222,
              "#7201a8"
             ],
             [
              0.3333333333333333,
              "#9c179e"
             ],
             [
              0.4444444444444444,
              "#bd3786"
             ],
             [
              0.5555555555555556,
              "#d8576b"
             ],
             [
              0.6666666666666666,
              "#ed7953"
             ],
             [
              0.7777777777777778,
              "#fb9f3a"
             ],
             [
              0.8888888888888888,
              "#fdca26"
             ],
             [
              1,
              "#f0f921"
             ]
            ],
            "type": "histogram2dcontour"
           }
          ],
          "mesh3d": [
           {
            "colorbar": {
             "outlinewidth": 0,
             "ticks": ""
            },
            "type": "mesh3d"
           }
          ],
          "parcoords": [
           {
            "line": {
             "colorbar": {
              "outlinewidth": 0,
              "ticks": ""
             }
            },
            "type": "parcoords"
           }
          ],
          "pie": [
           {
            "automargin": true,
            "type": "pie"
           }
          ],
          "scatter": [
           {
            "fillpattern": {
             "fillmode": "overlay",
             "size": 10,
             "solidity": 0.2
            },
            "type": "scatter"
           }
          ],
          "scatter3d": [
           {
            "line": {
             "colorbar": {
              "outlinewidth": 0,
              "ticks": ""
             }
            },
            "marker": {
             "colorbar": {
              "outlinewidth": 0,
              "ticks": ""
             }
            },
            "type": "scatter3d"
           }
          ],
          "scattercarpet": [
           {
            "marker": {
             "colorbar": {
              "outlinewidth": 0,
              "ticks": ""
             }
            },
            "type": "scattercarpet"
           }
          ],
          "scattergeo": [
           {
            "marker": {
             "colorbar": {
              "outlinewidth": 0,
              "ticks": ""
             }
            },
            "type": "scattergeo"
           }
          ],
          "scattergl": [
           {
            "marker": {
             "colorbar": {
              "outlinewidth": 0,
              "ticks": ""
             }
            },
            "type": "scattergl"
           }
          ],
          "scattermapbox": [
           {
            "marker": {
             "colorbar": {
              "outlinewidth": 0,
              "ticks": ""
             }
            },
            "type": "scattermapbox"
           }
          ],
          "scatterpolar": [
           {
            "marker": {
             "colorbar": {
              "outlinewidth": 0,
              "ticks": ""
             }
            },
            "type": "scatterpolar"
           }
          ],
          "scatterpolargl": [
           {
            "marker": {
             "colorbar": {
              "outlinewidth": 0,
              "ticks": ""
             }
            },
            "type": "scatterpolargl"
           }
          ],
          "scatterternary": [
           {
            "marker": {
             "colorbar": {
              "outlinewidth": 0,
              "ticks": ""
             }
            },
            "type": "scatterternary"
           }
          ],
          "surface": [
           {
            "colorbar": {
             "outlinewidth": 0,
             "ticks": ""
            },
            "colorscale": [
             [
              0,
              "#0d0887"
             ],
             [
              0.1111111111111111,
              "#46039f"
             ],
             [
              0.2222222222222222,
              "#7201a8"
             ],
             [
              0.3333333333333333,
              "#9c179e"
             ],
             [
              0.4444444444444444,
              "#bd3786"
             ],
             [
              0.5555555555555556,
              "#d8576b"
             ],
             [
              0.6666666666666666,
              "#ed7953"
             ],
             [
              0.7777777777777778,
              "#fb9f3a"
             ],
             [
              0.8888888888888888,
              "#fdca26"
             ],
             [
              1,
              "#f0f921"
             ]
            ],
            "type": "surface"
           }
          ],
          "table": [
           {
            "cells": {
             "fill": {
              "color": "#EBF0F8"
             },
             "line": {
              "color": "white"
             }
            },
            "header": {
             "fill": {
              "color": "#C8D4E3"
             },
             "line": {
              "color": "white"
             }
            },
            "type": "table"
           }
          ]
         },
         "layout": {
          "annotationdefaults": {
           "arrowcolor": "#2a3f5f",
           "arrowhead": 0,
           "arrowwidth": 1
          },
          "autotypenumbers": "strict",
          "coloraxis": {
           "colorbar": {
            "outlinewidth": 0,
            "ticks": ""
           }
          },
          "colorscale": {
           "diverging": [
            [
             0,
             "#8e0152"
            ],
            [
             0.1,
             "#c51b7d"
            ],
            [
             0.2,
             "#de77ae"
            ],
            [
             0.3,
             "#f1b6da"
            ],
            [
             0.4,
             "#fde0ef"
            ],
            [
             0.5,
             "#f7f7f7"
            ],
            [
             0.6,
             "#e6f5d0"
            ],
            [
             0.7,
             "#b8e186"
            ],
            [
             0.8,
             "#7fbc41"
            ],
            [
             0.9,
             "#4d9221"
            ],
            [
             1,
             "#276419"
            ]
           ],
           "sequential": [
            [
             0,
             "#0d0887"
            ],
            [
             0.1111111111111111,
             "#46039f"
            ],
            [
             0.2222222222222222,
             "#7201a8"
            ],
            [
             0.3333333333333333,
             "#9c179e"
            ],
            [
             0.4444444444444444,
             "#bd3786"
            ],
            [
             0.5555555555555556,
             "#d8576b"
            ],
            [
             0.6666666666666666,
             "#ed7953"
            ],
            [
             0.7777777777777778,
             "#fb9f3a"
            ],
            [
             0.8888888888888888,
             "#fdca26"
            ],
            [
             1,
             "#f0f921"
            ]
           ],
           "sequentialminus": [
            [
             0,
             "#0d0887"
            ],
            [
             0.1111111111111111,
             "#46039f"
            ],
            [
             0.2222222222222222,
             "#7201a8"
            ],
            [
             0.3333333333333333,
             "#9c179e"
            ],
            [
             0.4444444444444444,
             "#bd3786"
            ],
            [
             0.5555555555555556,
             "#d8576b"
            ],
            [
             0.6666666666666666,
             "#ed7953"
            ],
            [
             0.7777777777777778,
             "#fb9f3a"
            ],
            [
             0.8888888888888888,
             "#fdca26"
            ],
            [
             1,
             "#f0f921"
            ]
           ]
          },
          "colorway": [
           "#636efa",
           "#EF553B",
           "#00cc96",
           "#ab63fa",
           "#FFA15A",
           "#19d3f3",
           "#FF6692",
           "#B6E880",
           "#FF97FF",
           "#FECB52"
          ],
          "font": {
           "color": "#2a3f5f"
          },
          "geo": {
           "bgcolor": "white",
           "lakecolor": "white",
           "landcolor": "#E5ECF6",
           "showlakes": true,
           "showland": true,
           "subunitcolor": "white"
          },
          "hoverlabel": {
           "align": "left"
          },
          "hovermode": "closest",
          "mapbox": {
           "style": "light"
          },
          "paper_bgcolor": "white",
          "plot_bgcolor": "#E5ECF6",
          "polar": {
           "angularaxis": {
            "gridcolor": "white",
            "linecolor": "white",
            "ticks": ""
           },
           "bgcolor": "#E5ECF6",
           "radialaxis": {
            "gridcolor": "white",
            "linecolor": "white",
            "ticks": ""
           }
          },
          "scene": {
           "xaxis": {
            "backgroundcolor": "#E5ECF6",
            "gridcolor": "white",
            "gridwidth": 2,
            "linecolor": "white",
            "showbackground": true,
            "ticks": "",
            "zerolinecolor": "white"
           },
           "yaxis": {
            "backgroundcolor": "#E5ECF6",
            "gridcolor": "white",
            "gridwidth": 2,
            "linecolor": "white",
            "showbackground": true,
            "ticks": "",
            "zerolinecolor": "white"
           },
           "zaxis": {
            "backgroundcolor": "#E5ECF6",
            "gridcolor": "white",
            "gridwidth": 2,
            "linecolor": "white",
            "showbackground": true,
            "ticks": "",
            "zerolinecolor": "white"
           }
          },
          "shapedefaults": {
           "line": {
            "color": "#2a3f5f"
           }
          },
          "ternary": {
           "aaxis": {
            "gridcolor": "white",
            "linecolor": "white",
            "ticks": ""
           },
           "baxis": {
            "gridcolor": "white",
            "linecolor": "white",
            "ticks": ""
           },
           "bgcolor": "#E5ECF6",
           "caxis": {
            "gridcolor": "white",
            "linecolor": "white",
            "ticks": ""
           }
          },
          "title": {
           "x": 0.05
          },
          "xaxis": {
           "automargin": true,
           "gridcolor": "white",
           "linecolor": "white",
           "ticks": "",
           "title": {
            "standoff": 15
           },
           "zerolinecolor": "white",
           "zerolinewidth": 2
          },
          "yaxis": {
           "automargin": true,
           "gridcolor": "white",
           "linecolor": "white",
           "ticks": "",
           "title": {
            "standoff": 15
           },
           "zerolinecolor": "white",
           "zerolinewidth": 2
          }
         }
        },
        "title": {
         "text": "Hyperparameter tuning"
        },
        "width": 800,
        "xaxis": {
         "title": {
          "text": "n_estimators"
         }
        },
        "yaxis": {
         "title": {
          "text": "max_features"
         }
        }
       }
      },
      "image/png": "[encoded data removed]",
      "text/html": [
       "<div>                            <div id=\"c55bb4e7-8ca9-4487-a729-f15d1570bc7c\" class=\"plotly-graph-div\" style=\"height:800px; width:800px;\"></div>            <script type=\"text/javascript\">                require([\"plotly\"], function(Plotly) {                    window.PLOTLYENV=window.PLOTLYENV || {};                                    if (document.getElementById(\"c55bb4e7-8ca9-4487-a729-f15d1570bc7c\")) {                    Plotly.newPlot(                        \"c55bb4e7-8ca9-4487-a729-f15d1570bc7c\",                        [{\"x\":[10,20,30,40,50,60,70,80,90,100,110,120,130,140,150,160,170,180,190,200],\"y\":[1,2,3,4,5,6,7,8,9,10,11,12,13],\"z\":[[0.9581280788177342,0.9652709359605911,0.9790640394088669,0.9859605911330049,0.9859605911330049,0.9859605911330049,0.9859605911330049,0.9859605911330049,0.9859605911330049,0.9859605911330049,0.9859605911330049,0.9859605911330049,0.9859605911330049,0.9859605911330049,0.9859605911330049,0.9859605911330049,0.9859605911330049,0.9859605911330049,0.9859605911330049,0.9859605911330049],[0.97192118226601,0.97192118226601,0.9857142857142858,0.9857142857142858,0.9928571428571429,0.9857142857142858,0.9857142857142858,0.9790640394088669,0.9790640394088669,0.9859605911330049,0.9928571428571429,0.9859605911330049,0.9859605911330049,0.9790640394088669,0.9790640394088669,0.9790640394088669,0.9790640394088669,0.9790640394088669,0.9790640394088669,0.9790640394088669],[0.97192118226601,0.97192118226601,0.9793103448275862,0.9721674876847292,0.9790640394088669,0.9859605911330049,0.9859605911330049,0.9790640394088669,0.9859605911330049,0.9790640394088669,0.9790640394088669,0.9790640394088669,0.9859605911330049,0.9859605911330049,0.9859605911330049,0.9859605911330049,0.9859605911330049,0.9859605911330049,0.9790640394088669,0.9859605911330049],[0.9578817733990148,0.9788177339901478,0.9716748768472907,0.9716748768472907,0.9859605911330049,0.9859605911330049,0.9859605911330049,0.9859605911330049,0.9859605911330049,0.9859605911330049,0.9859605911330049,0.9859605911330049,0.9859605911330049,0.9859605911330049,0.9859605911330049,0.9859605911330049,0.9859605911330049,0.9859605911330049,0.9859605911330049,0.9859605911330049],[0.9438423645320198,0.9652709359605911,0.9862068965517242,0.9721674876847292,0.9721674876847292,0.9721674876847292,0.9721674876847292,0.9790640394088669,0.9790640394088669,0.9790640394088669,0.9790640394088669,0.9790640394088669,0.9790640394088669,0.9790640394088669,0.9790640394088669,0.9790640394088669,0.9790640394088669,0.9790640394088669,0.9790640394088669,0.9790640394088669],[0.9719211822660098,0.9650246305418719,0.9719211822660098,0.9790640394088669,0.9790640394088669,0.9790640394088669,0.9790640394088669,0.9790640394088669,0.9790640394088669,0.9790640394088669,0.9721674876847292,0.9790640394088669,0.9790640394088669,0.9790640394088669,0.9790640394088669,0.9721674876847292,0.9790640394088669,0.9790640394088669,0.9790640394088669,0.9721674876847292],[0.9509852216748769,0.9652709359605911,0.9790640394088669,0.9790640394088669,0.9790640394088669,0.9790640394088669,0.9790640394088669,0.9790640394088669,0.9790640394088669,0.9721674876847292,0.9721674876847292,0.9790640394088669,0.9790640394088669,0.9790640394088669,0.9790640394088669,0.9790640394088669,0.9790640394088669,0.9790640394088669,0.9721674876847292,0.9721674876847292],[0.9295566502463055,0.9435960591133006,0.9509852216748769,0.958128078817734,0.9652709359605911,0.9652709359605911,0.958128078817734,0.9652709359605911,0.9650246305418719,0.9650246305418719,0.9650246305418719,0.9721674876847292,0.9721674876847292,0.9721674876847292,0.9721674876847292,0.9721674876847292,0.9721674876847292,0.9721674876847292,0.9721674876847292,0.9721674876847292],[0.9578817733990148,0.9578817733990148,0.9650246305418719,0.9650246305418719,0.9650246305418719,0.958128078817734,0.9650246305418719,0.9650246305418719,0.9650246305418719,0.9650246305418719,0.9650246305418719,0.958128078817734,0.958128078817734,0.9650246305418719,0.9650246305418719,0.9721674876847292,0.9721674876847292,0.9721674876847292,0.9721674876847292,0.9721674876847292],[0.9507389162561577,0.958128078817734,0.9652709359605911,0.9652709359605911,0.9652709359605911,0.958128078817734,0.9652709359605911,0.9652709359605911,0.958128078817734,0.958128078817734,0.958128078817734,0.958128078817734,0.958128078817734,0.958128078817734,0.958128078817734,0.958128078817734,0.9652709359605911,0.958128078817734,0.9652709359605911,0.9652709359605911],[0.9509852216748769,0.9578817733990148,0.9509852216748769,0.9509852216748769,0.9440886699507389,0.951231527093596,0.9440886699507389,0.9509852216748769,0.9578817733990148,0.9509852216748769,0.9509852216748769,0.9509852216748769,0.9509852216748769,0.9578817733990148,0.958128078817734,0.9578817733990148,0.9509852216748769,0.9578817733990148,0.9509852216748769,0.9509852216748769],[0.9440886699507389,0.9443349753694582,0.951231527093596,0.951231527093596,0.9583743842364532,0.9583743842364532,0.951231527093596,0.9721674876847292,0.9650246305418719,0.958128078817734,0.958128078817734,0.958128078817734,0.958128078817734,0.9650246305418719,0.958128078817734,0.958128078817734,0.958128078817734,0.958128078817734,0.9652709359605911,0.958128078817734],[0.9440886699507389,0.951231527093596,0.958128078817734,0.951231527093596,0.958128078817734,0.951231527093596,0.951231527093596,0.958128078817734,0.958128078817734,0.958128078817734,0.958128078817734,0.958128078817734,0.958128078817734,0.958128078817734,0.958128078817734,0.958128078817734,0.958128078817734,0.958128078817734,0.958128078817734,0.958128078817734]],\"type\":\"surface\"}],                        {\"xaxis\":{\"title\":{\"text\":\"n_estimators\"}},\"yaxis\":{\"title\":{\"text\":\"max_features\"}},\"template\":{\"data\":{\"histogram2dcontour\":[{\"type\":\"histogram2dcontour\",\"colorbar\":{\"outlinewidth\":0,\"ticks\":\"\"},\"colorscale\":[[0.0,\"#0d0887\"],[0.1111111111111111,\"#46039f\"],[0.2222222222222222,\"#7201a8\"],[0.3333333333333333,\"#9c179e\"],[0.4444444444444444,\"#bd3786\"],[0.5555555555555556,\"#d8576b\"],[0.6666666666666666,\"#ed7953\"],[0.7777777777777778,\"#fb9f3a\"],[0.8888888888888888,\"#fdca26\"],[1.0,\"#f0f921\"]]}],\"choropleth\":[{\"type\":\"choropleth\",\"colorbar\":{\"outlinewidth\":0,\"ticks\":\"\"}}],\"histogram2d\":[{\"type\":\"histogram2d\",\"colorbar\":{\"outlinewidth\":0,\"ticks\":\"\"},\"colorscale\":[[0.0,\"#0d0887\"],[0.1111111111111111,\"#46039f\"],[0.2222222222222222,\"#7201a8\"],[0.3333333333333333,\"#9c179e\"],[0.4444444444444444,\"#bd3786\"],[0.5555555555555556,\"#d8576b\"],[0.6666666666666666,\"#ed7953\"],[0.7777777777777778,\"#fb9f3a\"],[0.8888888888888888,\"#fdca26\"],[1.0,\"#f0f921\"]]}],\"heatmap\":[{\"type\":\"heatmap\",\"colorbar\":{\"outlinewidth\":0,\"ticks\":\"\"},\"colorscale\":[[0.0,\"#0d0887\"],[0.1111111111111111,\"#46039f\"],[0.2222222222222222,\"#7201a8\"],[0.3333333333333333,\"#9c179e\"],[0.4444444444444444,\"#bd3786\"],[0.5555555555555556,\"#d8576b\"],[0.6666666666666666,\"#ed7953\"],[0.7777777777777778,\"#fb9f3a\"],[0.8888888888888888,\"#fdca26\"],[1.0,\"#f0f921\"]]}],\"heatmapgl\":[{\"type\":\"heatmapgl\",\"colorbar\":{\"outlinewidth\":0,\"ticks\":\"\"},\"colorscale\":[[0.0,\"#0d0887\"],[0.1111111111111111,\"#46039f\"],[0.2222222222222222,\"#7201a8\"],[0.3333333333333333,\"#9c179e\"],[0.4444444444444444,\"#bd3786\"],[0.5555555555555556,\"#d8576b\"],[0.6666666666666666,\"#ed7953\"],[0.7777777777777778,\"#fb9f3a\"],[0.8888888888888888,\"#fdca26\"],[1.0,\"#f0f921\"]]}],\"contourcarpet\":[{\"type\":\"contourcarpet\",\"colorbar\":{\"outlinewidth\":0,\"ticks\":\"\"}}],\"contour\":[{\"type\":\"contour\",\"colorbar\":{\"outlinewidth\":0,\"ticks\":\"\"},\"colorscale\":[[0.0,\"#0d0887\"],[0.1111111111111111,\"#46039f\"],[0.2222222222222222,\"#7201a8\"],[0.3333333333333333,\"#9c179e\"],[0.4444444444444444,\"#bd3786\"],[0.5555555555555556,\"#d8576b\"],[0.6666666666666666,\"#ed7953\"],[0.7777777777777778,\"#fb9f3a\"],[0.8888888888888888,\"#fdca26\"],[1.0,\"#f0f921\"]]}],\"surface\":[{\"type\":\"surface\",\"colorbar\":{\"outlinewidth\":0,\"ticks\":\"\"},\"colorscale\":[[0.0,\"#0d0887\"],[0.1111111111111111,\"#46039f\"],[0.2222222222222222,\"#7201a8\"],[0.3333333333333333,\"#9c179e\"],[0.4444444444444444,\"#bd3786\"],[0.5555555555555556,\"#d8576b\"],[0.6666666666666666,\"#ed7953\"],[0.7777777777777778,\"#fb9f3a\"],[0.8888888888888888,\"#fdca26\"],[1.0,\"#f0f921\"]]}],\"mesh3d\":[{\"type\":\"mesh3d\",\"colorbar\":{\"outlinewidth\":0,\"ticks\":\"\"}}],\"scatter\":[{\"fillpattern\":{\"fillmode\":\"overlay\",\"size\":10,\"solidity\":0.2},\"type\":\"scatter\"}],\"parcoords\":[{\"type\":\"parcoords\",\"line\":{\"colorbar\":{\"outlinewidth\":0,\"ticks\":\"\"}}}],\"scatterpolargl\":[{\"type\":\"scatterpolargl\",\"marker\":{\"colorbar\":{\"outlinewidth\":0,\"ticks\":\"\"}}}],\"bar\":[{\"error_x\":{\"color\":\"#2a3f5f\"},\"error_y\":{\"color\":\"#2a3f5f\"},\"marker\":{\"line\":{\"color\":\"#E5ECF6\",\"width\":0.5},\"pattern\":{\"fillmode\":\"overlay\",\"size\":10,\"solidity\":0.2}},\"type\":\"bar\"}],\"scattergeo\":[{\"type\":\"scattergeo\",\"marker\":{\"colorbar\":{\"outlinewidth\":0,\"ticks\":\"\"}}}],\"scatterpolar\":[{\"type\":\"scatterpolar\",\"marker\":{\"colorbar\":{\"outlinewidth\":0,\"ticks\":\"\"}}}],\"histogram\":[{\"marker\":{\"pattern\":{\"fillmode\":\"overlay\",\"size\":10,\"solidity\":0.2}},\"type\":\"histogram\"}],\"scattergl\":[{\"type\":\"scattergl\",\"marker\":{\"colorbar\":{\"outlinewidth\":0,\"ticks\":\"\"}}}],\"scatter3d\":[{\"type\":\"scatter3d\",\"line\":{\"colorbar\":{\"outlinewidth\":0,\"ticks\":\"\"}},\"marker\":{\"colorbar\":{\"outlinewidth\":0,\"ticks\":\"\"}}}],\"scattermapbox\":[{\"type\":\"scattermapbox\",\"marker\":{\"colorbar\":{\"outlinewidth\":0,\"ticks\":\"\"}}}],\"scatterternary\":[{\"type\":\"scatterternary\",\"marker\":{\"colorbar\":{\"outlinewidth\":0,\"ticks\":\"\"}}}],\"scattercarpet\":[{\"type\":\"scattercarpet\",\"marker\":{\"colorbar\":{\"outlinewidth\":0,\"ticks\":\"\"}}}],\"carpet\":[{\"aaxis\":{\"endlinecolor\":\"#2a3f5f\",\"gridcolor\":\"white\",\"linecolor\":\"white\",\"minorgridcolor\":\"white\",\"startlinecolor\":\"#2a3f5f\"},\"baxis\":{\"endlinecolor\":\"#2a3f5f\",\"gridcolor\":\"white\",\"linecolor\":\"white\",\"minorgridcolor\":\"white\",\"startlinecolor\":\"#2a3f5f\"},\"type\":\"carpet\"}],\"table\":[{\"cells\":{\"fill\":{\"color\":\"#EBF0F8\"},\"line\":{\"color\":\"white\"}},\"header\":{\"fill\":{\"color\":\"#C8D4E3\"},\"line\":{\"color\":\"white\"}},\"type\":\"table\"}],\"barpolar\":[{\"marker\":{\"line\":{\"color\":\"#E5ECF6\",\"width\":0.5},\"pattern\":{\"fillmode\":\"overlay\",\"size\":10,\"solidity\":0.2}},\"type\":\"barpolar\"}],\"pie\":[{\"automargin\":true,\"type\":\"pie\"}]},\"layout\":{\"autotypenumbers\":\"strict\",\"colorway\":[\"#636efa\",\"#EF553B\",\"#00cc96\",\"#ab63fa\",\"#FFA15A\",\"#19d3f3\",\"#FF6692\",\"#B6E880\",\"#FF97FF\",\"#FECB52\"],\"font\":{\"color\":\"#2a3f5f\"},\"hovermode\":\"closest\",\"hoverlabel\":{\"align\":\"left\"},\"paper_bgcolor\":\"white\",\"plot_bgcolor\":\"#E5ECF6\",\"polar\":{\"bgcolor\":\"#E5ECF6\",\"angularaxis\":{\"gridcolor\":\"white\",\"linecolor\":\"white\",\"ticks\":\"\"},\"radialaxis\":{\"gridcolor\":\"white\",\"linecolor\":\"white\",\"ticks\":\"\"}},\"ternary\":{\"bgcolor\":\"#E5ECF6\",\"aaxis\":{\"gridcolor\":\"white\",\"linecolor\":\"white\",\"ticks\":\"\"},\"baxis\":{\"gridcolor\":\"white\",\"linecolor\":\"white\",\"ticks\":\"\"},\"caxis\":{\"gridcolor\":\"white\",\"linecolor\":\"white\",\"ticks\":\"\"}},\"coloraxis\":{\"colorbar\":{\"outlinewidth\":0,\"ticks\":\"\"}},\"colorscale\":{\"sequential\":[[0.0,\"#0d0887\"],[0.1111111111111111,\"#46039f\"],[0.2222222222222222,\"#7201a8\"],[0.3333333333333333,\"#9c179e\"],[0.4444444444444444,\"#bd3786\"],[0.5555555555555556,\"#d8576b\"],[0.6666666666666666,\"#ed7953\"],[0.7777777777777778,\"#fb9f3a\"],[0.8888888888888888,\"#fdca26\"],[1.0,\"#f0f921\"]],\"sequentialminus\":[[0.0,\"#0d0887\"],[0.1111111111111111,\"#46039f\"],[0.2222222222222222,\"#7201a8\"],[0.3333333333333333,\"#9c179e\"],[0.4444444444444444,\"#bd3786\"],[0.5555555555555556,\"#d8576b\"],[0.6666666666666666,\"#ed7953\"],[0.7777777777777778,\"#fb9f3a\"],[0.8888888888888888,\"#fdca26\"],[1.0,\"#f0f921\"]],\"diverging\":[[0,\"#8e0152\"],[0.1,\"#c51b7d\"],[0.2,\"#de77ae\"],[0.3,\"#f1b6da\"],[0.4,\"#fde0ef\"],[0.5,\"#f7f7f7\"],[0.6,\"#e6f5d0\"],[0.7,\"#b8e186\"],[0.8,\"#7fbc41\"],[0.9,\"#4d9221\"],[1,\"#276419\"]]},\"xaxis\":{\"gridcolor\":\"white\",\"linecolor\":\"white\",\"ticks\":\"\",\"title\":{\"standoff\":15},\"zerolinecolor\":\"white\",\"automargin\":true,\"zerolinewidth\":2},\"yaxis\":{\"gridcolor\":\"white\",\"linecolor\":\"white\",\"ticks\":\"\",\"title\":{\"standoff\":15},\"zerolinecolor\":\"white\",\"automargin\":true,\"zerolinewidth\":2},\"scene\":{\"xaxis\":{\"backgroundcolor\":\"#E5ECF6\",\"gridcolor\":\"white\",\"linecolor\":\"white\",\"showbackground\":true,\"ticks\":\"\",\"zerolinecolor\":\"white\",\"gridwidth\":2},\"yaxis\":{\"backgroundcolor\":\"#E5ECF6\",\"gridcolor\":\"white\",\"linecolor\":\"white\",\"showbackground\":true,\"ticks\":\"\",\"zerolinecolor\":\"white\",\"gridwidth\":2},\"zaxis\":{\"backgroundcolor\":\"#E5ECF6\",\"gridcolor\":\"white\",\"linecolor\":\"white\",\"showbackground\":true,\"ticks\":\"\",\"zerolinecolor\":\"white\",\"gridwidth\":2}},\"shapedefaults\":{\"line\":{\"color\":\"#2a3f5f\"}},\"annotationdefaults\":{\"arrowcolor\":\"#2a3f5f\",\"arrowhead\":0,\"arrowwidth\":1},\"geo\":{\"bgcolor\":\"white\",\"landcolor\":\"#E5ECF6\",\"subunitcolor\":\"white\",\"showland\":true,\"showlakes\":true,\"lakecolor\":\"white\"},\"title\":{\"x\":0.05},\"mapbox\":{\"style\":\"light\"}}},\"margin\":{\"l\":65,\"r\":50,\"b\":65,\"t\":90},\"title\":{\"text\":\"Hyperparameter tuning\"},\"scene\":{\"xaxis\":{\"title\":{\"text\":\"n_estimators\"}},\"yaxis\":{\"title\":{\"text\":\"max_features\"}},\"zaxis\":{\"title\":{\"text\":\"Accuracy\"}}},\"autosize\":false,\"width\":800,\"height\":800},                        {\"responsive\": true}                    ).then(function(){\n",
       "                            \n",
       "var gd = document.getElementById('c55bb4e7-8ca9-4487-a729-f15d1570bc7c');\n",
       "var x = new MutationObserver(function (mutations, observer) {{\n",
       "        var display = window.getComputedStyle(gd).display;\n",
       "        if (!display || display === 'none') {{\n",
       "            console.log([gd, 'removed!']);\n",
       "            Plotly.purge(gd);\n",
       "            observer.disconnect();\n",
       "        }}\n",
       "}});\n",
       "\n",
       "// Listen for the removal of the full notebook cells\n",
       "var notebookContainer = gd.closest('#notebook-container');\n",
       "if (notebookContainer) {{\n",
       "    x.observe(notebookContainer, {childList: true});\n",
       "}}\n",
       "\n",
       "// Listen for the clearing of the current output cell\n",
       "var outputEl = gd.closest('.output');\n",
       "if (outputEl) {{\n",
       "    x.observe(outputEl, {childList: true});\n",
       "}}\n",
       "\n",
       "                        })                };                });            </script>        </div>"
      ]
     },
     "metadata": {},
     "output_type": "display_data"
    }
   ],
   "source": [
    "fig = go.Figure(data= [go.Surface(z=z, y=y, x=x)], layout=layout )\n",
    "fig.update_layout(title='Hyperparameter tuning',\n",
    "                  scene = dict(\n",
    "                    xaxis_title='n_estimators',\n",
    "                    yaxis_title='max_features',\n",
    "                    zaxis_title='Accuracy'),\n",
    "                  autosize=False,\n",
    "                  width=800, height=800,\n",
    "                  margin=dict(l=65, r=50, b=65, t=90))\n",
    "fig.show()"
   ]
  },
  {
   "cell_type": "markdown",
   "id": "efe40462-82a6-4eab-ad7e-4aac4f22a142",
   "metadata": {},
   "source": [
    "To summarize, after searching for the best parameters with GridSearchCV(), we found that the optimal parameters were max_features: 2 and n_estimators: 50, with a cross-validation score of 0.99. However, when we evaluate the model using the test dataset, we observe that the score decreases. This suggests that even though the model's performance was improved during the parameter search, the overall performance on unseen data (test set) is not significantly different from the default model's performance.\n"
   ]
  }
 ],
 "metadata": {
  "kernelspec": {
   "display_name": "Python 3 (ipykernel)",
   "language": "python",
   "name": "python3"
  },
  "language_info": {
   "codemirror_mode": {
    "name": "ipython",
    "version": 3
   },
   "file_extension": ".py",
   "mimetype": "text/x-python",
   "name": "python",
   "nbconvert_exporter": "python",
   "pygments_lexer": "ipython3",
   "version": "3.11.7"
  }
 },
 "nbformat": 4,
 "nbformat_minor": 5
}
